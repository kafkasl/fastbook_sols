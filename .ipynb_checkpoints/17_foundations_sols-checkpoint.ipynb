{
 "cells": [
  {
   "cell_type": "code",
   "execution_count": 2,
   "metadata": {
    "colab": {
     "base_uri": "https://localhost:8080/"
    },
    "id": "sTTCeSjXUwB9",
    "outputId": "52fe2220-7e6e-48f5-9f28-12cd44e6daf4"
   },
   "outputs": [
    {
     "name": "stdout",
     "output_type": "stream",
     "text": [
      "\u001b[K     |████████████████████████████████| 727kB 6.5MB/s \n",
      "\u001b[K     |████████████████████████████████| 1.2MB 25.4MB/s \n",
      "\u001b[K     |████████████████████████████████| 194kB 44.4MB/s \n",
      "\u001b[K     |████████████████████████████████| 51kB 5.2MB/s \n",
      "\u001b[K     |████████████████████████████████| 776.8MB 22kB/s \n",
      "\u001b[K     |████████████████████████████████| 12.8MB 45.8MB/s \n",
      "\u001b[K     |████████████████████████████████| 61kB 6.4MB/s \n",
      "\u001b[K     |████████████████████████████████| 51kB 5.4MB/s \n",
      "\u001b[31mERROR: torchtext 0.9.1 has requirement torch==1.8.1, but you'll have torch 1.7.1 which is incompatible.\u001b[0m\n",
      "\u001b[?25h"
     ]
    }
   ],
   "source": [
    "#hide\n",
    "!pip install -q fastbook\n",
    "import fastbook\n",
    "# fastbook.setup_book()"
   ]
  },
  {
   "cell_type": "code",
   "execution_count": 3,
   "metadata": {
    "id": "aLh04WAQUwdm"
   },
   "outputs": [],
   "source": [
    "#hide\n",
    "from fastbook import *"
   ]
  },
  {
   "cell_type": "markdown",
   "metadata": {
    "id": "gSrLfNfsiYgO"
   },
   "source": [
    "## Questionnaire"
   ]
  },
  {
   "cell_type": "markdown",
   "metadata": {
    "id": "zjbAJl8YiYgY"
   },
   "source": [
    "1. Write the Python code to implement a single neuron."
   ]
  },
  {
   "cell_type": "code",
   "execution_count": null,
   "metadata": {
    "id": "rcYv0fE3iYgZ"
   },
   "outputs": [],
   "source": [
    "neuron_output = sum([x*w for x,w in zip(inputs,weights)]) + bias"
   ]
  },
  {
   "cell_type": "markdown",
   "metadata": {
    "id": "BHOAIPZHiYga"
   },
   "source": [
    "__2. Write the Python code to implement ReLU.__"
   ]
  },
  {
   "cell_type": "code",
   "execution_count": null,
   "metadata": {
    "id": "mzoVltH1iYga"
   },
   "outputs": [],
   "source": [
    "def relu(x): return 0 if x<0 else x"
   ]
  },
  {
   "cell_type": "markdown",
   "metadata": {
    "id": "ZZyxVuOniYgb"
   },
   "source": [
    "__3. Write the Python code for a dense layer in terms of matrix multiplication.__"
   ]
  },
  {
   "cell_type": "code",
   "execution_count": null,
   "metadata": {
    "id": "LfSsZpnkiYgb"
   },
   "outputs": [],
   "source": [
    "y = x @ w.t() + b"
   ]
  },
  {
   "cell_type": "markdown",
   "metadata": {
    "id": "JHpfec9-iYgc"
   },
   "source": [
    "__4. Write the Python code for a dense layer in plain Python (that is, with list comprehensions and functionality built into Python).__"
   ]
  },
  {
   "cell_type": "code",
   "execution_count": null,
   "metadata": {
    "id": "WbKUjNMriYgc"
   },
   "outputs": [],
   "source": [
    "y[i,j] = sum([a * b for a,b in zip(x[i,:],w[j,:])]) + b[j]"
   ]
  },
  {
   "cell_type": "markdown",
   "metadata": {
    "id": "IJ5miVV0iYgc"
   },
   "source": [
    "__5. What is the \"hidden size\" of a layer?__\n",
    "\n",
    "The number of neurons in that layer"
   ]
  },
  {
   "cell_type": "markdown",
   "metadata": {
    "id": "vQ1JurlziYgd"
   },
   "source": [
    "__6. What does the `t` method do in PyTorch?__\n",
    "\n",
    "Tranposes the matrix"
   ]
  },
  {
   "cell_type": "markdown",
   "metadata": {
    "id": "un6Ax7-WiYgd"
   },
   "source": [
    "__7. Why is matrix multiplication written in plain Python very slow?__\n",
    "\n",
    "It's too high level. C++ is used in Pytorch to speed things up."
   ]
  },
  {
   "cell_type": "markdown",
   "metadata": {
    "id": "ByDklybuiYge"
   },
   "source": [
    "__8. In `matmul`, why is `ac==br`?__\n",
    "\n",
    "The number of columns in matrix `a` must equal the number of rows in matrix `b`"
   ]
  },
  {
   "cell_type": "markdown",
   "metadata": {
    "id": "bj6xOR01iYgf"
   },
   "source": [
    "__9. In Jupyter Notebook, how do you measure the time taken for a single cell to execute?__\n",
    "\n",
    "`%time`"
   ]
  },
  {
   "cell_type": "markdown",
   "metadata": {
    "id": "vjxjj3JtiYgf"
   },
   "source": [
    "__10. What is \"elementwise arithmetic\"?__\n",
    "\n",
    "When a mathematical operation is applied to every cell in the tensor."
   ]
  },
  {
   "cell_type": "markdown",
   "metadata": {
    "id": "WWVBswIOiYgg"
   },
   "source": [
    "__11. Write the PyTorch code to test whether every element of `a` is greater than the corresponding element of `b`.__"
   ]
  },
  {
   "cell_type": "code",
   "execution_count": null,
   "metadata": {
    "id": "kg7iZJYziYgg"
   },
   "outputs": [],
   "source": [
    "(a < b).all()"
   ]
  },
  {
   "cell_type": "markdown",
   "metadata": {
    "id": "wdgtjiOYiYgg"
   },
   "source": [
    "__12. What is a rank-0 tensor? How do you convert it to a plain Python data type?__\n",
    "\n",
    "A rank-0 tensor is a tensor that returns one element\n",
    "\n",
    "You can turn it into a plain Python data type using the `.item()` command"
   ]
  },
  {
   "cell_type": "markdown",
   "metadata": {
    "id": "2z74MhmxiYgh"
   },
   "source": [
    "__13. What does this return, and why? `tensor([1,2]) + tensor([1])`__\n",
    "\n",
    "Should given an error. The tensors don't have the same shapes."
   ]
  },
  {
   "cell_type": "markdown",
   "metadata": {
    "id": "v6kfLFiLiYgh"
   },
   "source": [
    "__14. What does this return, and why? `tensor([1,2]) + tensor([1,2,3])`__\n",
    "\n",
    "Same as above"
   ]
  },
  {
   "cell_type": "markdown",
   "metadata": {
    "id": "FYE4_GvFiYgi"
   },
   "source": [
    "__15. How does elementwise arithmetic help us speed up `matmul`?__\n",
    "\n",
    "We can do this: `a[i,:] * b[:,j]`. This takes the product of one row from `a` and one column at `b` at each cell. Then we call `.sum()` on the result. This removes an entire loop from the `matmul` function."
   ]
  },
  {
   "cell_type": "markdown",
   "metadata": {
    "id": "P63N4LCDiYgi"
   },
   "source": [
    "__16. What are the broadcasting rules?__\n",
    "\n",
    "Pytorch compares tensor shapes elementwise. It starts with the ending dimensions and works it way backward. It will add 1 where it sees empty dimensions. Stopping criteria:\n",
    "\n",
    "- Tensors are equal\n",
    "- One of the tensors is 1\n"
   ]
  },
  {
   "cell_type": "markdown",
   "metadata": {
    "id": "8fZUe6oniYgi"
   },
   "source": [
    "__17. What is `expand_as`? Show an example of how it can be used to match the results of broadcasting.__"
   ]
  },
  {
   "cell_type": "code",
   "execution_count": null,
   "metadata": {
    "id": "FPz-Syi_iYgj"
   },
   "outputs": [],
   "source": [
    "c = tensor([10.,20,30])\n",
    "m = tensor([[1., 2, 3], [4,5,6], [7,8,9]])\n",
    "c.expand_as(m)\n",
    "# [22]: tensor([[10., 20., 30.],\n",
    "#         [10., 20., 30.],\n",
    "#         [10., 20., 30.]])"
   ]
  },
  {
   "cell_type": "markdown",
   "metadata": {
    "id": "qQQwMuT9iYgj"
   },
   "source": [
    "__18. How does `unsqueeze` help us to solve certain broadcasting problems?__\n",
    "\n",
    "It adds a unit dimension to our tensor. This helps if we need to broadcast tensors of different shapes."
   ]
  },
  {
   "cell_type": "markdown",
   "metadata": {
    "id": "1_ubAx6EiYgj"
   },
   "source": [
    "__19. How can we use indexing to do the same operation as `unsqueeze`?__"
   ]
  },
  {
   "cell_type": "code",
   "execution_count": null,
   "metadata": {
    "id": "yzxZTfXGjKXg"
   },
   "outputs": [],
   "source": [
    "# the following explains it"
   ]
  },
  {
   "cell_type": "code",
   "execution_count": 5,
   "metadata": {
    "colab": {
     "base_uri": "https://localhost:8080/"
    },
    "id": "Uu5FDkpejJZH",
    "outputId": "224df98f-0d4c-43d9-ca03-d6fb6f1b1371"
   },
   "outputs": [
    {
     "data": {
      "text/plain": [
       "torch.Size([64, 28, 28])"
      ]
     },
     "execution_count": 5,
     "metadata": {
      "tags": []
     },
     "output_type": "execute_result"
    }
   ],
   "source": [
    "c = torch.randn(64,28,28)\n",
    "c.shape"
   ]
  },
  {
   "cell_type": "code",
   "execution_count": 6,
   "metadata": {
    "colab": {
     "base_uri": "https://localhost:8080/"
    },
    "id": "w0OqznBEjMGf",
    "outputId": "9626a824-7440-4003-bf13-6f33264f38da"
   },
   "outputs": [
    {
     "data": {
      "text/plain": [
       "torch.Size([64, 1, 28, 28])"
      ]
     },
     "execution_count": 6,
     "metadata": {
      "tags": []
     },
     "output_type": "execute_result"
    }
   ],
   "source": [
    "c.unsqueeze(1).shape"
   ]
  },
  {
   "cell_type": "code",
   "execution_count": 7,
   "metadata": {
    "colab": {
     "base_uri": "https://localhost:8080/"
    },
    "id": "if2MkolxjNkQ",
    "outputId": "51f4aa4f-e6e0-4e0b-f69a-36c7c3c2679f"
   },
   "outputs": [
    {
     "data": {
      "text/plain": [
       "torch.Size([64, 1, 28, 28])"
      ]
     },
     "execution_count": 7,
     "metadata": {
      "tags": []
     },
     "output_type": "execute_result"
    }
   ],
   "source": [
    "c[:,None].shape"
   ]
  },
  {
   "cell_type": "code",
   "execution_count": 8,
   "metadata": {
    "colab": {
     "base_uri": "https://localhost:8080/"
    },
    "id": "Yf4Jtj7jjOhV",
    "outputId": "80b00252-4427-456a-89f8-c43cdb752eac"
   },
   "outputs": [
    {
     "data": {
      "text/plain": [
       "torch.Size([64, 28, 1, 28])"
      ]
     },
     "execution_count": 8,
     "metadata": {
      "tags": []
     },
     "output_type": "execute_result"
    }
   ],
   "source": [
    "c[:,:, None].shape"
   ]
  },
  {
   "cell_type": "code",
   "execution_count": 9,
   "metadata": {
    "colab": {
     "base_uri": "https://localhost:8080/"
    },
    "id": "89JisCH0jPdp",
    "outputId": "65fe7ff2-ab77-49c4-8d99-2b6ea5c27b7a"
   },
   "outputs": [
    {
     "data": {
      "text/plain": [
       "torch.Size([64, 28, 28, 1])"
      ]
     },
     "execution_count": 9,
     "metadata": {
      "tags": []
     },
     "output_type": "execute_result"
    }
   ],
   "source": [
    "c[...,None].shape"
   ]
  },
  {
   "cell_type": "markdown",
   "metadata": {
    "id": "MTj4jsLSiYgk"
   },
   "source": [
    "__20. How do we show the actual contents of the memory used for a tensor?__"
   ]
  },
  {
   "cell_type": "code",
   "execution_count": 1,
   "metadata": {
    "colab": {
     "base_uri": "https://localhost:8080/"
    },
    "id": "QdbCvgdFiYgk",
    "outputId": "00961e2e-99d6-43d9-a280-b3f38b3d4300",
    "scrolled": true
   },
   "outputs": [],
   "source": [
    "c.storage()"
   ]
  },
  {
   "cell_type": "markdown",
   "metadata": {
    "id": "c1EDZxC9iYgl"
   },
   "source": [
    "__21. When adding a vector of size 3 to a matrix of size 3×3, are the elements of the vector added to each row or each column of the matrix? (Be sure to check your answer by running this code in a notebook.)__\n",
    "\n",
    "The elements of the vector are added to each row of the matrix as follows:"
   ]
  },
  {
   "cell_type": "code",
   "execution_count": 11,
   "metadata": {
    "colab": {
     "base_uri": "https://localhost:8080/"
    },
    "id": "czbprwsqjRWk",
    "outputId": "6835ff33-0dc6-45b1-9a7c-b27c2fc1af24"
   },
   "outputs": [
    {
     "data": {
      "text/plain": [
       "(torch.Size([3]), torch.Size([3, 3]))"
      ]
     },
     "execution_count": 11,
     "metadata": {
      "tags": []
     },
     "output_type": "execute_result"
    }
   ],
   "source": [
    "c = torch.randn(3)\n",
    "d = torch.randn(3,3)\n",
    "c.shape, d.shape"
   ]
  },
  {
   "cell_type": "code",
   "execution_count": 12,
   "metadata": {
    "colab": {
     "base_uri": "https://localhost:8080/"
    },
    "id": "Mrejqw09jUyl",
    "outputId": "8848887c-f746-49d2-87ed-f0987a9fd0f3"
   },
   "outputs": [
    {
     "data": {
      "text/plain": [
       "tensor([-1.0413,  0.1454,  1.7158])"
      ]
     },
     "execution_count": 12,
     "metadata": {
      "tags": []
     },
     "output_type": "execute_result"
    }
   ],
   "source": [
    "c"
   ]
  },
  {
   "cell_type": "code",
   "execution_count": 13,
   "metadata": {
    "colab": {
     "base_uri": "https://localhost:8080/"
    },
    "id": "BUQD-VBMjVYc",
    "outputId": "e1937446-dd4a-486d-bc4c-fc2e1a957ee0"
   },
   "outputs": [
    {
     "data": {
      "text/plain": [
       "tensor([[-0.6817, -0.3108,  0.8937],\n",
       "        [-0.5705,  0.1401, -0.1598],\n",
       "        [-0.9723, -2.2842, -0.0553]])"
      ]
     },
     "execution_count": 13,
     "metadata": {
      "tags": []
     },
     "output_type": "execute_result"
    }
   ],
   "source": [
    "d"
   ]
  },
  {
   "cell_type": "code",
   "execution_count": 14,
   "metadata": {
    "colab": {
     "base_uri": "https://localhost:8080/"
    },
    "id": "KX2o17eEjWRP",
    "outputId": "7c6252e5-d804-4f2a-df2c-1af38057ede5"
   },
   "outputs": [
    {
     "data": {
      "text/plain": [
       "tensor([[-1.7229, -0.1654,  2.6096],\n",
       "        [-1.6117,  0.2855,  1.5560],\n",
       "        [-2.0136, -2.1388,  1.6606]])"
      ]
     },
     "execution_count": 14,
     "metadata": {
      "tags": []
     },
     "output_type": "execute_result"
    }
   ],
   "source": [
    "c+d"
   ]
  },
  {
   "cell_type": "markdown",
   "metadata": {
    "id": "nNkaMj8OiYgm"
   },
   "source": [
    "__22. Do broadcasting and `expand_as` result in increased memory use? Why or why not?__\n",
    "\n",
    "No it does not. Pytorch gives the tensor a stride of 0. So when it looks for the next row by adding the stride - it doesn't move."
   ]
  },
  {
   "cell_type": "markdown",
   "metadata": {
    "id": "wbgP2oDliYgm"
   },
   "source": [
    "__23. Implement `matmul` using Einstein summation.__"
   ]
  },
  {
   "cell_type": "code",
   "execution_count": 15,
   "metadata": {
    "id": "VcG8UQ6niYgm"
   },
   "outputs": [],
   "source": [
    "def matmul(a,b): return torch.einsum('ik,kj->ij', a, b)"
   ]
  },
  {
   "cell_type": "markdown",
   "metadata": {
    "id": "kl-2Umk1iYgm"
   },
   "source": [
    "__24. What does a repeated index letter represent on the left-hand side of einsum?__\n",
    "\n",
    "The number of rows in one matrix need to equal the number of cols in another matrix. Eg. in the question above the letter `k` is repeated on the LHS."
   ]
  },
  {
   "cell_type": "markdown",
   "metadata": {
    "id": "AI-tDrKkiYgn"
   },
   "source": [
    "__25. What are the three rules of Einstein summation notation? Why?__\n",
    "\n",
    "Repeated indices are implicitly summed over. Above, the term k is repeated so we sum over that index.\n",
    "\n",
    "Each index can appear at most twice in any term. \n",
    "\n",
    "Each term must contain identical nonrepeated indices.\n",
    "\n",
    "\n",
    "TODO: fill in why"
   ]
  },
  {
   "cell_type": "markdown",
   "metadata": {
    "id": "VBNFgxs6iYgn"
   },
   "source": [
    "__26. What are the forward pass and backward pass of a neural network?__\n",
    "\n",
    "forward pass: compute the output of a model given input and weights\n",
    "\n",
    "backward pass: compute gradients of each layer starting at the end of the model."
   ]
  },
  {
   "cell_type": "markdown",
   "metadata": {
    "id": "ffF6mJLciYgo"
   },
   "source": [
    "__27. Why do we need to store some of the activations calculated for intermediate layers in the forward pass?__\n",
    "\n",
    "So we can calculate the gradients in the backward pass"
   ]
  },
  {
   "cell_type": "markdown",
   "metadata": {
    "id": "rhb_Q3U-iYgo"
   },
   "source": [
    "__28. What is the downside of having activations with a standard deviation too far away from 1?__\n",
    "\n",
    "We run the risk of the activations becoming `nans` as they are too large"
   ]
  },
  {
   "cell_type": "markdown",
   "metadata": {
    "id": "G8kKKytPiYgp"
   },
   "source": [
    "__29. How can weight initialization help avoid this problem?__\n",
    "\n",
    "We can mulitply each layer by a scale value: `1/√𝑛𝑖𝑛`"
   ]
  },
  {
   "cell_type": "markdown",
   "metadata": {
    "id": "jHCgqyv0iYgp"
   },
   "source": [
    "__30. What is the formula to initialize weights such that we get a standard deviation of 1 for a plain linear layer, and for a linear layer followed by ReLU?__\n",
    "\n",
    "Multiply each layer by the scale value: `2/√𝑛𝑖𝑛`. Kaiming init."
   ]
  },
  {
   "cell_type": "markdown",
   "metadata": {
    "id": "nCVusg08iYgp"
   },
   "source": [
    "__31. Why do we sometimes have to use the `squeeze` method in loss functions?__\n",
    "\n",
    "To get rid of the trailing unit dimension"
   ]
  },
  {
   "cell_type": "markdown",
   "metadata": {
    "id": "9hAi_2p5iYgq"
   },
   "source": [
    "__32. What does the argument to the `squeeze` method do? Why might it be important to include this argument, even though PyTorch does not require it?__\n",
    "\n",
    "The argument tells PyTorch what axis to remove the unit dimensions from. It can be sometimes useful to hardcode this yourself for clarity?"
   ]
  },
  {
   "cell_type": "markdown",
   "metadata": {
    "id": "s8CmpwGBiYgq"
   },
   "source": [
    "__33. What is the \"chain rule\"? Show the equation in either of the two forms presented in this chapter.__\n",
    "\n",
    "$$\\frac{\\text{d} loss}{\\text{d} b_{2}} = \\frac{\\text{d} loss}{\\text{d} out} \\times \\frac{\\text{d} out}{\\text{d} b_{2}} = \\frac{\\text{d}}{\\text{d} out} mse(out, y) \\times \\frac{\\text{d}}{\\text{d} b_{2}} lin(l_{2}, w_{2}, b_{2})$$\n"
   ]
  },
  {
   "cell_type": "markdown",
   "metadata": {
    "id": "xcrZJ7MUiYgq"
   },
   "source": [
    "__34. Show how to calculate the gradients of `mse(lin(l2, w2, b2), y)` using the chain rule.__"
   ]
  },
  {
   "cell_type": "code",
   "execution_count": 105,
   "metadata": {
    "id": "fnZNXFaymqzQ"
   },
   "outputs": [],
   "source": [
    "from math import sqrt"
   ]
  },
  {
   "cell_type": "code",
   "execution_count": 159,
   "metadata": {
    "id": "ObbMRXC-iYgr"
   },
   "outputs": [],
   "source": [
    "def relu(x): return x.clamp_min(0.)\n",
    "def lin(x, w, b): return x @ w + b\n",
    "def mse(output, targ): return (output.squeeze() - targ).pow(2).mean()\n",
    "\n",
    "def mse_grad(inp, targ): \n",
    "    # grad of loss with respect to output of previous layer\n",
    "    inp.g = 2. * (inp.squeeze() - targ).unsqueeze(-1) / inp.shape[0]\n",
    "\n",
    "def relu_grad(inp, out):\n",
    "    # grad of relu with respect to input activations\n",
    "    inp.g = (inp>0).float() * out.g\n",
    "\n",
    "def lin_grad(inp, out, w, b):\n",
    "    # grad of matmul with respect to input\n",
    "    inp.g = out.g @ w.t()\n",
    "    w.g = inp.t() @ out.g\n",
    "    b.g = out.g.sum(0)"
   ]
  },
  {
   "cell_type": "code",
   "execution_count": 107,
   "metadata": {
    "id": "3LsCwXQmmY_S"
   },
   "outputs": [],
   "source": [
    "x = torch.randn(200, 100)\n",
    "y = torch.randn(200)"
   ]
  },
  {
   "cell_type": "code",
   "execution_count": 108,
   "metadata": {
    "id": "rq45qveoiYgr"
   },
   "outputs": [],
   "source": [
    "w1 = torch.randn(100,50) * sqrt(2 / 100)\n",
    "b1 = torch.zeros(50)\n",
    "w2 = torch.randn(50,1) * sqrt(2 / 50)\n",
    "b2 = torch.zeros(1)"
   ]
  },
  {
   "cell_type": "code",
   "execution_count": 110,
   "metadata": {
    "colab": {
     "base_uri": "https://localhost:8080/"
    },
    "id": "rjHdJpwJqUJ6",
    "outputId": "3e724fb1-59dc-4081-e3ad-f9fa04796bb4"
   },
   "outputs": [
    {
     "data": {
      "text/plain": [
       "torch.Size([200, 1])"
      ]
     },
     "execution_count": 110,
     "metadata": {
      "tags": []
     },
     "output_type": "execute_result"
    }
   ],
   "source": [
    "# forward pass\n",
    "l1 = lin(x, w1, b1)\n",
    "l2 = relu(l1)\n",
    "l3 = lin(l2, w2, b2)\n",
    "out.shape"
   ]
  },
  {
   "cell_type": "code",
   "execution_count": 111,
   "metadata": {
    "id": "6XysFbv3qWWo"
   },
   "outputs": [],
   "source": [
    "# loss\n",
    "loss = mse(out, y)"
   ]
  },
  {
   "cell_type": "code",
   "execution_count": 112,
   "metadata": {
    "id": "7R9SdNzFqLiw"
   },
   "outputs": [],
   "source": [
    "# gradients calculated here\n",
    "# backward pass\n",
    "mse_grad(out, y) # d(loss)/d(out)\n",
    "lin_grad(l2, out, w2, b2) # d(out)/d(b2)\n",
    "relu_grad(l1, l2) # d(relu)/d(out)\n",
    "lin_grad(x, l1, w1, b1) # d(out)/d(b1)"
   ]
  },
  {
   "cell_type": "code",
   "execution_count": 116,
   "metadata": {
    "colab": {
     "base_uri": "https://localhost:8080/"
    },
    "id": "qJQ6eXq6qa9a",
    "outputId": "abeaf091-c99d-4e63-f5eb-ef9ae6fabd95"
   },
   "outputs": [
    {
     "data": {
      "text/plain": [
       "(torch.Size([100, 50]),\n",
       " torch.Size([200, 50]),\n",
       " torch.Size([200, 50]),\n",
       " torch.Size([200, 1]))"
      ]
     },
     "execution_count": 116,
     "metadata": {
      "tags": []
     },
     "output_type": "execute_result"
    }
   ],
   "source": [
    "w1.g.shape, l1.g.shape, l2.g.shape, out.g.shape"
   ]
  },
  {
   "cell_type": "markdown",
   "metadata": {
    "id": "EHvqo0BewrSY"
   },
   "source": [
    "__35. What is the gradient of ReLU? Show it in math or code. (You shouldn't need to commit this to memory—try to figure it using your knowledge of the shape of the function.)__"
   ]
  },
  {
   "cell_type": "code",
   "execution_count": null,
   "metadata": {
    "id": "qr_KZ4J03gbJ"
   },
   "outputs": [],
   "source": [
    "# when inputs are negative derivative is 0\n",
    "# when inputs are postive derivative is 1\n",
    "inp.g = (inp>0).float() * out.g"
   ]
  },
  {
   "cell_type": "markdown",
   "metadata": {
    "id": "ZOf4qcYT4fwq"
   },
   "source": [
    "__36. In what order do we need to call the `*_grad` functions in the backward pass? Why?__\n",
    "\n",
    "We call the last layer in the model first. So we use the mse_grad function first. We need this order for the chain rule to work.\n"
   ]
  },
  {
   "cell_type": "markdown",
   "metadata": {
    "id": "MFF44R8N5N7w"
   },
   "source": [
    "__37. What is `__call__`?__\n",
    "\n",
    "It's a function that makes the `Class` callable."
   ]
  },
  {
   "cell_type": "markdown",
   "metadata": {
    "id": "mTEJGnf057AT"
   },
   "source": [
    "__38. What methods must we implement when writing a `torch.autograd.Function`?__\n",
    "\n",
    "`forward` and `backward` methods"
   ]
  },
  {
   "cell_type": "markdown",
   "metadata": {
    "id": "RaEp_Kjv6DkE"
   },
   "source": [
    "__39. Write `nn.Linear` from scratch, and test it works.__"
   ]
  },
  {
   "cell_type": "code",
   "execution_count": 156,
   "metadata": {
    "id": "RaHN5gVh6FLB"
   },
   "outputs": [],
   "source": [
    "class Linear():\n",
    "    def __init__(self, w, b): \n",
    "        self.w,self.b = w,b\n",
    "        \n",
    "    def __call__(self, inp):\n",
    "        self.inp = inp\n",
    "        self.out = inp@self.w + self.b\n",
    "        return self.out\n",
    "    \n",
    "    def backward(self):\n",
    "        self.inp.g = self.out.g @ self.w.t()\n",
    "        self.w.g = self.inp.t() @ self.out.g\n",
    "        self.b.g = self.out.g.sum(0)"
   ]
  },
  {
   "cell_type": "code",
   "execution_count": 184,
   "metadata": {
    "id": "H78SX8jZ6VEe"
   },
   "outputs": [],
   "source": [
    "n_out = 50\n",
    "x = torch.randn(200, 100)\n",
    "y = torch.randn(200)"
   ]
  },
  {
   "cell_type": "code",
   "execution_count": 186,
   "metadata": {
    "id": "lVH7iT5I6bHv"
   },
   "outputs": [],
   "source": [
    "n_out = 50\n",
    "n_in = 100\n",
    "w1 = torch.randn(n_in, n_out) * sqrt(2/n_in)\n",
    "b1 = torch.zeros(n_out)"
   ]
  },
  {
   "cell_type": "code",
   "execution_count": 187,
   "metadata": {
    "id": "UfZSFjRr6YRj"
   },
   "outputs": [],
   "source": [
    "l1 = Linear(w1,b1)"
   ]
  },
  {
   "cell_type": "code",
   "execution_count": 189,
   "metadata": {
    "colab": {
     "base_uri": "https://localhost:8080/"
    },
    "id": "msMRSc4O6vB7",
    "outputId": "100b1cd1-e228-4cb9-eea4-74b88e70cce4"
   },
   "outputs": [
    {
     "data": {
      "text/plain": [
       "torch.Size([200, 50])"
      ]
     },
     "execution_count": 189,
     "metadata": {
      "tags": []
     },
     "output_type": "execute_result"
    }
   ],
   "source": [
    "y1 = l1(x)\n",
    "y1.shape"
   ]
  },
  {
   "cell_type": "code",
   "execution_count": 190,
   "metadata": {
    "colab": {
     "base_uri": "https://localhost:8080/"
    },
    "id": "EYSIv9FRBY03",
    "outputId": "1ade97c1-7996-4f20-db27-5579ca6f55f7"
   },
   "outputs": [
    {
     "data": {
      "text/plain": [
       "torch.Size([200, 50])"
      ]
     },
     "execution_count": 190,
     "metadata": {
      "tags": []
     },
     "output_type": "execute_result"
    }
   ],
   "source": [
    "l2 = nn.Linear(100, n_out)\n",
    "y2 = l2(x)\n",
    "y2.shape"
   ]
  },
  {
   "cell_type": "code",
   "execution_count": 191,
   "metadata": {
    "id": "Vr7NRbwVA3_9"
   },
   "outputs": [],
   "source": [
    "assert(y1.shape == y2.shape)"
   ]
  },
  {
   "cell_type": "markdown",
   "metadata": {
    "id": "CugI-RQNiYgr"
   },
   "source": [
    "__40. What is the difference between `nn.Module` and fastai's `Module`?__\n",
    "\n",
    "You don't have to call `super.__init__()` in fastai's version"
   ]
  }
 ],
 "metadata": {
  "colab": {
   "collapsed_sections": [],
   "name": "17_foundations_sols.ipynb",
   "provenance": []
  },
  "kernelspec": {
   "display_name": "Python 3",
   "language": "python",
   "name": "python3"
  },
  "language_info": {
   "codemirror_mode": {
    "name": "ipython",
    "version": 3
   },
   "file_extension": ".py",
   "mimetype": "text/x-python",
   "name": "python",
   "nbconvert_exporter": "python",
   "pygments_lexer": "ipython3",
   "version": "3.7.4"
  }
 },
 "nbformat": 4,
 "nbformat_minor": 1
}
