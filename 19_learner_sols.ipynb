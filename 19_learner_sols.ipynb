{
  "nbformat": 4,
  "nbformat_minor": 0,
  "metadata": {
    "colab": {
      "name": "19_learner_sols.ipynb",
      "provenance": [],
      "collapsed_sections": [],
      "authorship_tag": "ABX9TyOERuYEgvg8+EDhe4WmN9ZW",
      "include_colab_link": true
    },
    "kernelspec": {
      "name": "python3",
      "display_name": "Python 3"
    },
    "language_info": {
      "name": "python"
    }
  },
  "cells": [
    {
      "cell_type": "markdown",
      "metadata": {
        "id": "view-in-github",
        "colab_type": "text"
      },
      "source": [
        "<a href=\"https://colab.research.google.com/github/spiyer99/fastbook_sols/blob/master/19_learner_sols.ipynb\" target=\"_parent\"><img src=\"https://colab.research.google.com/assets/colab-badge.svg\" alt=\"Open In Colab\"/></a>"
      ]
    },
    {
      "cell_type": "code",
      "metadata": {
        "colab": {
          "base_uri": "https://localhost:8080/"
        },
        "id": "Zwq7856xoqOJ",
        "outputId": "b3a22137-1ca9-4ddd-a40d-f0bca78cab74"
      },
      "source": [
        "#hide\n",
        "!pip install -Uqq fastbook\n",
        "import fastbook\n",
        "# fastbook.setup_book()"
      ],
      "execution_count": 4,
      "outputs": [
        {
          "output_type": "stream",
          "text": [
            "\u001b[K     |████████████████████████████████| 727kB 6.7MB/s \n",
            "\u001b[K     |████████████████████████████████| 51kB 3.9MB/s \n",
            "\u001b[K     |████████████████████████████████| 194kB 10.5MB/s \n",
            "\u001b[K     |████████████████████████████████| 1.2MB 10.2MB/s \n",
            "\u001b[K     |████████████████████████████████| 51kB 5.0MB/s \n",
            "\u001b[K     |████████████████████████████████| 61kB 5.8MB/s \n",
            "\u001b[K     |████████████████████████████████| 12.8MB 21.8MB/s \n",
            "\u001b[K     |████████████████████████████████| 776.8MB 22kB/s \n",
            "\u001b[31mERROR: torchtext 0.9.1 has requirement torch==1.8.1, but you'll have torch 1.7.1 which is incompatible.\u001b[0m\n",
            "\u001b[?25h"
          ],
          "name": "stdout"
        }
      ]
    },
    {
      "cell_type": "code",
      "metadata": {
        "id": "LSXYWIQEorlL"
      },
      "source": [
        "from fastbook import *"
      ],
      "execution_count": 5,
      "outputs": []
    },
    {
      "cell_type": "markdown",
      "metadata": {
        "id": "SdxUGdVInra_"
      },
      "source": [
        "## Questionnaire"
      ]
    },
    {
      "cell_type": "markdown",
      "metadata": {
        "id": "6WNabxMpnwHi"
      },
      "source": [
        "__1. What is `glob`?__\n",
        "\n",
        "A library to get files based on wildcard searches"
      ]
    },
    {
      "cell_type": "markdown",
      "metadata": {
        "id": "QIIyLROYoB8G"
      },
      "source": [
        "__2. How do you open an image with the Python imaging library?__"
      ]
    },
    {
      "cell_type": "code",
      "metadata": {
        "id": "zqCDCky7ygHj"
      },
      "source": [
        "path = untar_data(URLs.IMAGENETTE_160)"
      ],
      "execution_count": 84,
      "outputs": []
    },
    {
      "cell_type": "markdown",
      "metadata": {
        "id": "Fu-7j8edoSxh"
      },
      "source": [
        "__3. What does `L.map` do?__"
      ]
    },
    {
      "cell_type": "code",
      "metadata": {
        "colab": {
          "base_uri": "https://localhost:8080/"
        },
        "id": "hOfQck1LoT93",
        "outputId": "363aad5b-78a1-45eb-dd73-7ef6a160a8bd"
      },
      "source": [
        "from glob import glob\n",
        "\n",
        "def get_img_files(path):  \n",
        "  print(f'{path}/*/*/*.*G')\n",
        "  return L(glob(f'{path}/*/*/*.*G', recursive=True)).map(Path)\n",
        "\n",
        "files = get_img_files(path)"
      ],
      "execution_count": 90,
      "outputs": [
        {
          "output_type": "stream",
          "text": [
            "/root/.fastai/data/imagenette2-160/*/*/*.*G\n"
          ],
          "name": "stdout"
        }
      ]
    },
    {
      "cell_type": "markdown",
      "metadata": {
        "id": "mB06Yt2UsNh7"
      },
      "source": [
        "It applies the `Path` function to every cell of the list in L"
      ]
    },
    {
      "cell_type": "markdown",
      "metadata": {
        "id": "rcfPB0PiraLm"
      },
      "source": [
        "__4. What does `Self` do?__"
      ]
    },
    {
      "cell_type": "code",
      "metadata": {
        "colab": {
          "base_uri": "https://localhost:8080/"
        },
        "id": "ZkVuYaGkrcjp",
        "outputId": "1fc7a446-f14c-4fe9-f1d5-68ff1b554219"
      },
      "source": [
        "lbls = files.map(Self.parent.name()).unique(); lbls"
      ],
      "execution_count": 91,
      "outputs": [
        {
          "output_type": "execute_result",
          "data": {
            "text/plain": [
              "(#10) ['n03888257','n03445777','n03425413','n03394916','n03417042','n03000684','n03028079','n02102040','n01440764','n02979186']"
            ]
          },
          "metadata": {
            "tags": []
          },
          "execution_count": 91
        }
      ]
    },
    {
      "cell_type": "markdown",
      "metadata": {
        "id": "wLIFc7-2sSFM"
      },
      "source": [
        "It allows you to access a particular cell of the list"
      ]
    },
    {
      "cell_type": "markdown",
      "metadata": {
        "id": "Xs98dlFbsYk4"
      },
      "source": [
        "__5. What is `L.val2idx`?__"
      ]
    },
    {
      "cell_type": "code",
      "metadata": {
        "colab": {
          "base_uri": "https://localhost:8080/"
        },
        "id": "XcU4qciSsaD-",
        "outputId": "97c9db55-000d-41ef-975e-2564d8555dfd"
      },
      "source": [
        "v2i = lbls.val2idx(); v2i"
      ],
      "execution_count": 92,
      "outputs": [
        {
          "output_type": "execute_result",
          "data": {
            "text/plain": [
              "{'n01440764': 8,\n",
              " 'n02102040': 7,\n",
              " 'n02979186': 9,\n",
              " 'n03000684': 5,\n",
              " 'n03028079': 6,\n",
              " 'n03394916': 3,\n",
              " 'n03417042': 4,\n",
              " 'n03425413': 2,\n",
              " 'n03445777': 1,\n",
              " 'n03888257': 0}"
            ]
          },
          "metadata": {
            "tags": []
          },
          "execution_count": 92
        }
      ]
    },
    {
      "cell_type": "markdown",
      "metadata": {
        "id": "bEeD7V3wsgbE"
      },
      "source": [
        "Creates a unique list of label and index"
      ]
    },
    {
      "cell_type": "markdown",
      "metadata": {
        "id": "sEeC9F83sjKq"
      },
      "source": [
        "__6. What methods do you need to implement to create your own `Dataset`?__"
      ]
    },
    {
      "cell_type": "code",
      "metadata": {
        "id": "wm2KolSVwWAV"
      },
      "source": [
        "# bare minimum\n",
        "class Dataset():\n",
        "    def __len__(self): pass\n",
        "    def __getitem__(self, i): pass"
      ],
      "execution_count": 93,
      "outputs": []
    },
    {
      "cell_type": "markdown",
      "metadata": {
        "id": "uZUOwkQnwr8P"
      },
      "source": [
        "__7. Why do we call `convert` when we open an image from Imagenette?__"
      ]
    },
    {
      "cell_type": "code",
      "metadata": {
        "id": "5YhJk7OTxDrg"
      },
      "source": [
        "img_path = files[0]"
      ],
      "execution_count": 94,
      "outputs": []
    },
    {
      "cell_type": "code",
      "metadata": {
        "colab": {
          "base_uri": "https://localhost:8080/",
          "height": 177
        },
        "id": "oQWq3f7nyZdX",
        "outputId": "147539e6-9440-4f80-aa2e-486c3202bb87"
      },
      "source": [
        "PIL.Image.open(img_path)"
      ],
      "execution_count": 95,
      "outputs": [
        {
          "output_type": "execute_result",
          "data": {
            "image/png": "[encoded data removed]",
            "text/plain": [
              "<PIL.JpegImagePlugin.JpegImageFile image mode=RGB size=238x160 at 0x7F511A831BD0>"
            ]
          },
          "metadata": {
            "tags": []
          },
          "execution_count": 95
        }
      ]
    },
    {
      "cell_type": "code",
      "metadata": {
        "colab": {
          "base_uri": "https://localhost:8080/",
          "height": 177
        },
        "id": "ol_fc-aDydA2",
        "outputId": "445338f7-36f9-433d-baf2-24fcc148178a"
      },
      "source": [
        "PIL.Image.open(img_path).convert('RGB')"
      ],
      "execution_count": 96,
      "outputs": [
        {
          "output_type": "execute_result",
          "data": {
            "image/png": "[encoded data removed]",
            "text/plain": [
              "<PIL.Image.Image image mode=RGB size=238x160 at 0x7F511AA301D0>"
            ]
          },
          "metadata": {
            "tags": []
          },
          "execution_count": 96
        }
      ]
    },
    {
      "cell_type": "markdown",
      "metadata": {
        "id": "mSlGkLnMyxsH"
      },
      "source": [
        "It removes the alpha channel if it's present. It converts an image to a jpeg format."
      ]
    },
    {
      "cell_type": "markdown",
      "metadata": {
        "id": "V2O2JjE1y9w5"
      },
      "source": [
        "__8. What does `~` do? How is it useful for splitting training and validation sets?__"
      ]
    },
    {
      "cell_type": "markdown",
      "metadata": {
        "id": "2miXqtOLzHYL"
      },
      "source": [
        "`~` negates the True/False operators is in the list. \n",
        "\n"
      ]
    },
    {
      "cell_type": "code",
      "metadata": {
        "id": "IRK7vS6Fy_7M"
      },
      "source": [
        "train_filt = L(o.parent.parent.name=='train' for o in files)\n",
        "train = files[train_filt] # returns all places where `train_filt` is `True` in the list `files`\n",
        "valid = files[~train_filt] # returns all places where `train_filt` is not `True` in the list `files`"
      ],
      "execution_count": 97,
      "outputs": []
    },
    {
      "cell_type": "markdown",
      "metadata": {
        "id": "K56JQPg3z0pz"
      },
      "source": [
        "__9. Does `~` work with the `L` or `Tensor` classes? What about NumPy arrays, Python lists, or pandas DataFrames?__"
      ]
    },
    {
      "cell_type": "markdown",
      "metadata": {
        "id": "Ch1GgHIe0D_K"
      },
      "source": [
        "Yes it does."
      ]
    },
    {
      "cell_type": "markdown",
      "metadata": {
        "id": "qpAalrGL0HHN"
      },
      "source": [
        "__10. What is `ProcessPoolExecutor`?__"
      ]
    },
    {
      "cell_type": "markdown",
      "metadata": {
        "id": "xwVXd3wS0gEJ"
      },
      "source": [
        "It allows for multiprocessing."
      ]
    },
    {
      "cell_type": "markdown",
      "metadata": {
        "id": "5QfC82bm0jNC"
      },
      "source": [
        "__11. How does `L.range(self.ds)` work?__"
      ]
    },
    {
      "cell_type": "code",
      "metadata": {
        "colab": {
          "base_uri": "https://localhost:8080/"
        },
        "id": "3M6qKk6z0knC",
        "outputId": "0f63b922-bfcf-4da6-a6e0-97ec211ab97e"
      },
      "source": [
        "class Dataset:\n",
        "    def __init__(self, fns): self.fns=fns\n",
        "    def __len__(self): return len(self.fns)\n",
        "    def __getitem__(self, i):\n",
        "        im = Image.open(self.fns[i]).resize((64,64)).convert('RGB')\n",
        "        y = v2i[self.fns[i].parent.name]\n",
        "        return tensor(im).float()/255, tensor(y)\n",
        "\n",
        "train_ds = Dataset(train)\n",
        "x, y = train_ds[0]\n",
        "x.shape, y.shape"
      ],
      "execution_count": 109,
      "outputs": [
        {
          "output_type": "execute_result",
          "data": {
            "text/plain": [
              "(torch.Size([64, 64, 3]), torch.Size([]))"
            ]
          },
          "metadata": {
            "tags": []
          },
          "execution_count": 109
        }
      ]
    },
    {
      "cell_type": "code",
      "metadata": {
        "colab": {
          "base_uri": "https://localhost:8080/"
        },
        "id": "niw5Zqs-7qYQ",
        "outputId": "fdeb79e7-7b56-4f93-d66d-4ed2cbb339e3"
      },
      "source": [
        "L.range(train_ds)"
      ],
      "execution_count": 103,
      "outputs": [
        {
          "output_type": "execute_result",
          "data": {
            "text/plain": [
              "(#9469) [0,1,2,3,4,5,6,7,8,9...]"
            ]
          },
          "metadata": {
            "tags": []
          },
          "execution_count": 103
        }
      ]
    },
    {
      "cell_type": "code",
      "metadata": {
        "colab": {
          "base_uri": "https://localhost:8080/"
        },
        "id": "3oCOM9HA76S_",
        "outputId": "d3327505-021b-4436-8ac3-ca9f4a56c264"
      },
      "source": [
        "[i for i in range(len(train_ds))][0:9]"
      ],
      "execution_count": 113,
      "outputs": [
        {
          "output_type": "execute_result",
          "data": {
            "text/plain": [
              "[0, 1, 2, 3, 4, 5, 6, 7, 8]"
            ]
          },
          "metadata": {
            "tags": []
          },
          "execution_count": 113
        }
      ]
    },
    {
      "cell_type": "markdown",
      "metadata": {
        "id": "4BESOpuo75eg"
      },
      "source": [
        "It returns a list of integers of length `ds`"
      ]
    },
    {
      "cell_type": "markdown",
      "metadata": {
        "id": "MOHOPmq58IFc"
      },
      "source": [
        "__12. What is `__iter__`?__\n"
      ]
    },
    {
      "cell_type": "code",
      "metadata": {
        "colab": {
          "base_uri": "https://localhost:8080/"
        },
        "id": "MZoZExwN8KHv",
        "outputId": "3b0c00a7-011a-47d0-dab2-e2428b15cdb7"
      },
      "source": [
        "def collate(idxs, ds): \n",
        "    xb,yb = zip(*[ds[i] for i in idxs])\n",
        "    return torch.stack(xb),torch.stack(yb)\n",
        "\n",
        "class DataLoader:\n",
        "    def __init__(self, ds, bs=128, shuffle=False, n_workers=1):\n",
        "        self.ds,self.bs,self.shuffle,self.n_workers = ds,bs,shuffle,n_workers\n",
        "\n",
        "    def __len__(self): return (len(self.ds)-1)//self.bs+1\n",
        "\n",
        "    def __iter__(self):\n",
        "        idxs = L.range(self.ds)\n",
        "        if self.shuffle: idxs = idxs.shuffle()\n",
        "        chunks = [idxs[n:n+self.bs] for n in range(0, len(self.ds), self.bs)]\n",
        "        with ProcessPoolExecutor(self.n_workers) as ex:\n",
        "            yield from ex.map(collate, chunks, ds=self.ds)\n",
        "\n",
        "train_dl = DataLoader(train_ds, bs=128, shuffle=True, n_workers=16)\n",
        "xb,yb = first(train_dl)\n",
        "xb.shape,yb.shape,len(train_dl)"
      ],
      "execution_count": 117,
      "outputs": [
        {
          "output_type": "execute_result",
          "data": {
            "text/plain": [
              "(torch.Size([128, 64, 64, 3]), torch.Size([128]), 74)"
            ]
          },
          "metadata": {
            "tags": []
          },
          "execution_count": 117
        }
      ]
    },
    {
      "cell_type": "markdown",
      "metadata": {
        "id": "xzXhT40YCWbw"
      },
      "source": [
        "It returns the iterator"
      ]
    },
    {
      "cell_type": "markdown",
      "metadata": {
        "id": "St6b0rf8Bse4"
      },
      "source": [
        "__13. What is `first`?__\n",
        "\n",
        "Gives you the first batch in the dl"
      ]
    },
    {
      "cell_type": "markdown",
      "metadata": {
        "id": "RxVKulBrCeLK"
      },
      "source": [
        "__14. What is `permute`? Why is it needed?__\n",
        "\n",
        "We use it to convert `NHWC` to `NCHW`. PIL uses the former but we need the latter for PyTorch.\n"
      ]
    },
    {
      "cell_type": "markdown",
      "metadata": {
        "id": "I4steP6CCs4P"
      },
      "source": [
        "__15. What is a recursive function? How does it help us define the `parameters` method?__\n",
        "\n",
        "A function that calls itself.\n",
        "\n"
      ]
    },
    {
      "cell_type": "markdown",
      "metadata": {
        "id": "zY0UsSbS8xtW"
      },
      "source": [
        "__16. Write a recursive function that returns the first 20 items of the Fibonacci sequence.__"
      ]
    },
    {
      "cell_type": "code",
      "metadata": {
        "colab": {
          "base_uri": "https://localhost:8080/"
        },
        "id": "f712QN0a82b3",
        "outputId": "07a036f5-51d2-4ff0-a521-23d147c2d311"
      },
      "source": [
        "def _r_fibonacci(n):\n",
        "  if n==0: return 0\n",
        "  if n==1: return 1\n",
        "  return fibonacci(n-1) + fibonacci(n-2)\n",
        "\n",
        "def get_fibonacci(n):\n",
        "  return [_r_fibonacci(i) for i in range(n)]\n",
        "\n",
        "get_fibonacci(20)"
      ],
      "execution_count": 125,
      "outputs": [
        {
          "output_type": "execute_result",
          "data": {
            "text/plain": [
              "[0,\n",
              " 1,\n",
              " 1,\n",
              " 2,\n",
              " 3,\n",
              " 5,\n",
              " 8,\n",
              " 13,\n",
              " 21,\n",
              " 34,\n",
              " 55,\n",
              " 89,\n",
              " 144,\n",
              " 233,\n",
              " 377,\n",
              " 610,\n",
              " 987,\n",
              " 1597,\n",
              " 2584,\n",
              " 4181]"
            ]
          },
          "metadata": {
            "tags": []
          },
          "execution_count": 125
        }
      ]
    },
    {
      "cell_type": "markdown",
      "metadata": {
        "id": "V9Z6zK-R-ImJ"
      },
      "source": [
        "__17. What is `super`?__\n",
        "\n",
        "It's an object that allows you to access methods of the base class\n",
        "\n",
        "\n",
        "https://www.programiz.com/python-programming/methods/built-in/super#:~:text=The%20super()%20builtin%20returns,Working%20with%20Multiple%20Inheritance"
      ]
    },
    {
      "cell_type": "markdown",
      "metadata": {
        "id": "kVSW9Rp4_Sw0"
      },
      "source": [
        "__18. Why do subclasses of `Module` need to override `forward` instead of defining `__call__`?__\n",
        "\n",
        "`__call__` is already defined in `Module`. `__call__` *calls* the forward function and runs the hooks."
      ]
    },
    {
      "cell_type": "markdown",
      "metadata": {
        "id": "zNtixLOX_2mJ"
      },
      "source": [
        "__19. In `ConvLayer`, why does `init` depend on `act`?__\n",
        "\n",
        "`Kaiming init` deals with the dying ReLU problem quite well. If we don't have any `ReLU`'s then we should probably use a different kind of init\n"
      ]
    },
    {
      "cell_type": "markdown",
      "metadata": {
        "id": "hrPtjLstCQ3W"
      },
      "source": [
        "__20. Why does `Sequential` need to call `register_modules`?__\n",
        "\n",
        "In order to show the contents of the layer in parameters\n"
      ]
    },
    {
      "cell_type": "markdown",
      "metadata": {
        "id": "_pDR--WKF1Ch"
      },
      "source": [
        "__21. Write a hook that prints the shape of every layer's activations.__\n",
        "\n"
      ]
    },
    {
      "cell_type": "code",
      "metadata": {
        "id": "rGgmgkugGuWd"
      },
      "source": [
        "class Parameter(Tensor):\n",
        "    def __new__(self, x): return Tensor._make_subclass(Parameter, x, True)\n",
        "    def __init__(self, *args, **kwargs): self.requires_grad_()\n",
        "\n",
        "class Module:\n",
        "    def __init__(self):\n",
        "        self.hook,self.params,self.children,self._training = None,[],[],False\n",
        "        \n",
        "    def register_parameters(self, *ps): self.params += ps\n",
        "    def register_modules   (self, *ms): self.children += ms\n",
        "        \n",
        "    @property\n",
        "    def training(self): return self._training\n",
        "    @training.setter\n",
        "    def training(self,v):\n",
        "        self._training = v\n",
        "        for m in self.children: m.training=v\n",
        "            \n",
        "    def parameters(self):\n",
        "        return self.params + sum([m.parameters() for m in self.children], [])\n",
        "\n",
        "    def __setattr__(self,k,v):\n",
        "        super().__setattr__(k,v)\n",
        "        if isinstance(v,Parameter): self.register_parameters(v)\n",
        "        if isinstance(v,Module):    self.register_modules(v)\n",
        "        \n",
        "    def __call__(self, *args, **kwargs):\n",
        "        res = self.forward(*args, **kwargs)\n",
        "        if self.hook is not None: self.hook(res, args)\n",
        "        return res\n",
        "    \n",
        "    def cuda(self):\n",
        "        for p in self.parameters(): p.data = p.data.cuda()\n",
        "''\n",
        "class ConvLayer(Module):\n",
        "    def __init__(self, ni, nf, stride=1, bias=True, act=True):\n",
        "        super().__init__()\n",
        "        self.w = Parameter(torch.zeros(nf,ni,3,3))\n",
        "        self.b = Parameter(torch.zeros(nf)) if bias else None\n",
        "        self.act,self.stride = act,stride\n",
        "        init = nn.init.kaiming_normal_ if act else nn.init.xavier_normal_\n",
        "        init(self.w)\n",
        "    \n",
        "    def forward(self, x):\n",
        "        x = F.conv2d(x, self.w, self.b, stride=self.stride, padding=1)\n",
        "        if self.act: x = F.relu(x)\n",
        "        return x\n",
        "\n",
        "class Sequential(Module):\n",
        "    def __init__(self, *layers):\n",
        "        super().__init__()\n",
        "        self.layers = layers\n",
        "        self.register_modules(*layers)\n",
        "\n",
        "    def forward(self, x):\n",
        "        for l in self.layers: x = l(x)\n",
        "        return x\n",
        "\n",
        "class AdaptivePool(Module):\n",
        "    def forward(self, x): return x.mean((2,3))\n",
        "\n",
        "class Linear(Module):\n",
        "    def __init__(self, ni, nf):\n",
        "        super().__init__()\n",
        "        self.w = Parameter(torch.zeros(nf,ni))\n",
        "        self.b = Parameter(torch.zeros(nf))\n",
        "        nn.init.xavier_normal_(self.w)\n",
        "    \n",
        "    def forward(self, x): return x@self.w.t() + self.b"
      ],
      "execution_count": 136,
      "outputs": []
    },
    {
      "cell_type": "code",
      "metadata": {
        "id": "U_GPmLZBHblT"
      },
      "source": [
        "def simple_cnn():\n",
        "    return Sequential(\n",
        "        ConvLayer(3,16 ,stride=2), #32\n",
        "        ConvLayer(16,32 ,stride=2), #16\n",
        "        ConvLayer(32,64 ,stride=2), # 8\n",
        "        ConvLayer(64,128,stride=2), # 4\n",
        "        AdaptivePool(),\n",
        "        Linear(128, 10)\n",
        "    )"
      ],
      "execution_count": 137,
      "outputs": []
    },
    {
      "cell_type": "code",
      "metadata": {
        "colab": {
          "base_uri": "https://localhost:8080/"
        },
        "id": "2gGbpVzFHCiA",
        "outputId": "2d3a2aa3-e7b0-464c-82bd-d9245665361c"
      },
      "source": [
        "m = simple_cnn()\n",
        "len(m.parameters())"
      ],
      "execution_count": 138,
      "outputs": [
        {
          "output_type": "execute_result",
          "data": {
            "text/plain": [
              "10"
            ]
          },
          "metadata": {
            "tags": []
          },
          "execution_count": 138
        }
      ]
    },
    {
      "cell_type": "code",
      "metadata": {
        "id": "QcHXEfftJarH"
      },
      "source": [
        "class Normalize:\n",
        "    def __init__(self, stats): self.stats=stats\n",
        "    def __call__(self, x):\n",
        "        if x.device != self.stats[0].device:\n",
        "            self.stats = to_device(self.stats, x.device)\n",
        "        return (x-self.stats[0])/self.stats[1]\n",
        "\n",
        "stats = [xb.mean((0,1,2)),xb.std((0,1,2))]\n",
        "norm = Normalize(stats)\n",
        "\n",
        "def tfm_x(x): return norm(x).permute((0,3,1,2))\n",
        "\n",
        "xbt = tfm_x(xb)"
      ],
      "execution_count": 142,
      "outputs": []
    },
    {
      "cell_type": "code",
      "metadata": {
        "colab": {
          "base_uri": "https://localhost:8080/"
        },
        "id": "X0Ildnq2JylG",
        "outputId": "ea57f10b-135c-4dff-dbc5-44824c365256"
      },
      "source": [
        "def print_stats(outp, inp): \n",
        "  print(outp.shape)\n",
        "\n",
        "for i in range(4): \n",
        "  m.layers[i].hook = print_stats\n",
        "\n",
        "r = m(xbt)\n",
        "r.shape"
      ],
      "execution_count": 149,
      "outputs": [
        {
          "output_type": "stream",
          "text": [
            "torch.Size([128, 16, 32, 32])\n",
            "torch.Size([128, 32, 16, 16])\n",
            "torch.Size([128, 64, 8, 8])\n",
            "torch.Size([128, 128, 4, 4])\n"
          ],
          "name": "stdout"
        },
        {
          "output_type": "execute_result",
          "data": {
            "text/plain": [
              "torch.Size([128, 10])"
            ]
          },
          "metadata": {
            "tags": []
          },
          "execution_count": 149
        }
      ]
    },
    {
      "cell_type": "markdown",
      "metadata": {
        "id": "-n0oTnxqKM9g"
      },
      "source": [
        "__22. What is \"LogSumExp\"?__\n",
        "\n",
        "$$\\log \\left ( \\sum_{j=1}^{n} e^{x_{j}} \\right ) = \\log \\left ( e^{a} \\sum_{j=1}^{n} e^{x_{j}-a} \\right ) = a + \\log \\left ( \\sum_{j=1}^{n} e^{x_{j}-a} \\right )$$\n",
        "\n",
        "where $a$ is the maximum of $x_{j}$."
      ]
    },
    {
      "cell_type": "markdown",
      "metadata": {
        "id": "WwWdQ0FENrIG"
      },
      "source": [
        "__23. Why is `log_softmax` useful?__\n",
        "\n",
        "Improved numerical performance. This can be useful as training can be computationally expensive.\n",
        "\n",
        "\n",
        "https://datascience.stackexchange.com/questions/40714/what-is-the-advantage-of-using-log-softmax-instead-of-softmax"
      ]
    },
    {
      "cell_type": "markdown",
      "metadata": {
        "id": "QHKpB7SePaSi"
      },
      "source": [
        "__24. What is `GetAttr`? How is it helpful for callbacks?__\n"
      ]
    },
    {
      "cell_type": "markdown",
      "metadata": {
        "id": "Vk723EGLRKFi"
      },
      "source": [
        "__25. Reimplement one of the callbacks in this chapter without inheriting from `Callback` or `GetAttr`.__"
      ]
    },
    {
      "cell_type": "markdown",
      "metadata": {
        "id": "wlE5ZMRRnu0N"
      },
      "source": [
        "\n",
        "\n",
        "1. What does `Learner.__call__` do?\n",
        "1. What is `getattr`? (Note the case difference to `GetAttr`!)\n",
        "1. Why is there a `try` block in `fit`?\n",
        "1. Why do we check for `model.training` in `one_batch`?\n",
        "1. What is `store_attr`?\n",
        "1. What is the purpose of `TrackResults.before_epoch`?\n",
        "1. What does `model.cuda` do? How does it work?\n",
        "1. Why do we need to check `model.training` in `LRFinder` and `OneCycle`?\n",
        "1. Use cosine annealing in `OneCycle`."
      ]
    },
    {
      "cell_type": "code",
      "metadata": {
        "id": "ydqKjn02oSGd"
      },
      "source": [
        ""
      ],
      "execution_count": null,
      "outputs": []
    }
  ]
}