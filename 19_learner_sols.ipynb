{
  "nbformat": 4,
  "nbformat_minor": 0,
  "metadata": {
    "colab": {
      "name": "19_learner_sols.ipynb",
      "provenance": [],
      "collapsed_sections": [],
      "authorship_tag": "ABX9TyMsJV+25U9z5xmJKxzR78bx",
      "include_colab_link": true
    },
    "kernelspec": {
      "name": "python3",
      "display_name": "Python 3"
    },
    "language_info": {
      "name": "python"
    },
    "widgets": {
      "application/vnd.jupyter.widget-state+json": {
        "7d0a80d4bed2426c819cb1946362711e": {
          "model_module": "@jupyter-widgets/controls",
          "model_name": "HBoxModel",
          "state": {
            "_view_name": "HBoxView",
            "_dom_classes": [],
            "_model_name": "HBoxModel",
            "_view_module": "@jupyter-widgets/controls",
            "_model_module_version": "1.5.0",
            "_view_count": null,
            "_view_module_version": "1.5.0",
            "box_style": "",
            "layout": "IPY_MODEL_7aec4fe3c2f54e3190956b1300b638fd",
            "_model_module": "@jupyter-widgets/controls",
            "children": [
              "IPY_MODEL_c141034f46ae4575adcb51caba61c460",
              "IPY_MODEL_5ee52b9c99924959a4097e2768cf3fb3"
            ]
          }
        },
        "7aec4fe3c2f54e3190956b1300b638fd": {
          "model_module": "@jupyter-widgets/base",
          "model_name": "LayoutModel",
          "state": {
            "_view_name": "LayoutView",
            "grid_template_rows": null,
            "right": null,
            "justify_content": null,
            "_view_module": "@jupyter-widgets/base",
            "overflow": null,
            "_model_module_version": "1.2.0",
            "_view_count": null,
            "flex_flow": null,
            "width": null,
            "min_width": null,
            "border": null,
            "align_items": null,
            "bottom": null,
            "_model_module": "@jupyter-widgets/base",
            "top": null,
            "grid_column": null,
            "overflow_y": null,
            "overflow_x": null,
            "grid_auto_flow": null,
            "grid_area": null,
            "grid_template_columns": null,
            "flex": null,
            "_model_name": "LayoutModel",
            "justify_items": null,
            "grid_row": null,
            "max_height": null,
            "align_content": null,
            "visibility": null,
            "align_self": null,
            "height": null,
            "min_height": null,
            "padding": null,
            "grid_auto_rows": null,
            "grid_gap": null,
            "max_width": null,
            "order": null,
            "_view_module_version": "1.2.0",
            "grid_template_areas": null,
            "object_position": null,
            "object_fit": null,
            "grid_auto_columns": null,
            "margin": null,
            "display": null,
            "left": null
          }
        },
        "c141034f46ae4575adcb51caba61c460": {
          "model_module": "@jupyter-widgets/controls",
          "model_name": "FloatProgressModel",
          "state": {
            "_view_name": "ProgressView",
            "style": "IPY_MODEL_f420dcb892aa449c8a66ab5e9b56be0c",
            "_dom_classes": [],
            "description": "100%",
            "_model_name": "FloatProgressModel",
            "bar_style": "success",
            "max": 87306240,
            "_view_module": "@jupyter-widgets/controls",
            "_model_module_version": "1.5.0",
            "value": 87306240,
            "_view_count": null,
            "_view_module_version": "1.5.0",
            "orientation": "horizontal",
            "min": 0,
            "description_tooltip": null,
            "_model_module": "@jupyter-widgets/controls",
            "layout": "IPY_MODEL_c2ca83edbae84a2fa66ffa621dcbab48"
          }
        },
        "5ee52b9c99924959a4097e2768cf3fb3": {
          "model_module": "@jupyter-widgets/controls",
          "model_name": "HTMLModel",
          "state": {
            "_view_name": "HTMLView",
            "style": "IPY_MODEL_0e7c218bb25842c58c39a1f98273e0da",
            "_dom_classes": [],
            "description": "",
            "_model_name": "HTMLModel",
            "placeholder": "​",
            "_view_module": "@jupyter-widgets/controls",
            "_model_module_version": "1.5.0",
            "value": " 83.3M/83.3M [00:01&lt;00:00, 68.1MB/s]",
            "_view_count": null,
            "_view_module_version": "1.5.0",
            "description_tooltip": null,
            "_model_module": "@jupyter-widgets/controls",
            "layout": "IPY_MODEL_e3c21353348245e6a959a6a98640f99e"
          }
        },
        "f420dcb892aa449c8a66ab5e9b56be0c": {
          "model_module": "@jupyter-widgets/controls",
          "model_name": "ProgressStyleModel",
          "state": {
            "_view_name": "StyleView",
            "_model_name": "ProgressStyleModel",
            "description_width": "initial",
            "_view_module": "@jupyter-widgets/base",
            "_model_module_version": "1.5.0",
            "_view_count": null,
            "_view_module_version": "1.2.0",
            "bar_color": null,
            "_model_module": "@jupyter-widgets/controls"
          }
        },
        "c2ca83edbae84a2fa66ffa621dcbab48": {
          "model_module": "@jupyter-widgets/base",
          "model_name": "LayoutModel",
          "state": {
            "_view_name": "LayoutView",
            "grid_template_rows": null,
            "right": null,
            "justify_content": null,
            "_view_module": "@jupyter-widgets/base",
            "overflow": null,
            "_model_module_version": "1.2.0",
            "_view_count": null,
            "flex_flow": null,
            "width": null,
            "min_width": null,
            "border": null,
            "align_items": null,
            "bottom": null,
            "_model_module": "@jupyter-widgets/base",
            "top": null,
            "grid_column": null,
            "overflow_y": null,
            "overflow_x": null,
            "grid_auto_flow": null,
            "grid_area": null,
            "grid_template_columns": null,
            "flex": null,
            "_model_name": "LayoutModel",
            "justify_items": null,
            "grid_row": null,
            "max_height": null,
            "align_content": null,
            "visibility": null,
            "align_self": null,
            "height": null,
            "min_height": null,
            "padding": null,
            "grid_auto_rows": null,
            "grid_gap": null,
            "max_width": null,
            "order": null,
            "_view_module_version": "1.2.0",
            "grid_template_areas": null,
            "object_position": null,
            "object_fit": null,
            "grid_auto_columns": null,
            "margin": null,
            "display": null,
            "left": null
          }
        },
        "0e7c218bb25842c58c39a1f98273e0da": {
          "model_module": "@jupyter-widgets/controls",
          "model_name": "DescriptionStyleModel",
          "state": {
            "_view_name": "StyleView",
            "_model_name": "DescriptionStyleModel",
            "description_width": "",
            "_view_module": "@jupyter-widgets/base",
            "_model_module_version": "1.5.0",
            "_view_count": null,
            "_view_module_version": "1.2.0",
            "_model_module": "@jupyter-widgets/controls"
          }
        },
        "e3c21353348245e6a959a6a98640f99e": {
          "model_module": "@jupyter-widgets/base",
          "model_name": "LayoutModel",
          "state": {
            "_view_name": "LayoutView",
            "grid_template_rows": null,
            "right": null,
            "justify_content": null,
            "_view_module": "@jupyter-widgets/base",
            "overflow": null,
            "_model_module_version": "1.2.0",
            "_view_count": null,
            "flex_flow": null,
            "width": null,
            "min_width": null,
            "border": null,
            "align_items": null,
            "bottom": null,
            "_model_module": "@jupyter-widgets/base",
            "top": null,
            "grid_column": null,
            "overflow_y": null,
            "overflow_x": null,
            "grid_auto_flow": null,
            "grid_area": null,
            "grid_template_columns": null,
            "flex": null,
            "_model_name": "LayoutModel",
            "justify_items": null,
            "grid_row": null,
            "max_height": null,
            "align_content": null,
            "visibility": null,
            "align_self": null,
            "height": null,
            "min_height": null,
            "padding": null,
            "grid_auto_rows": null,
            "grid_gap": null,
            "max_width": null,
            "order": null,
            "_view_module_version": "1.2.0",
            "grid_template_areas": null,
            "object_position": null,
            "object_fit": null,
            "grid_auto_columns": null,
            "margin": null,
            "display": null,
            "left": null
          }
        }
      }
    }
  },
  "cells": [
    {
      "cell_type": "markdown",
      "metadata": {
        "id": "view-in-github",
        "colab_type": "text"
      },
      "source": [
        "<a href=\"https://colab.research.google.com/github/spiyer99/fastbook_sols/blob/master/19_learner_sols.ipynb\" target=\"_parent\"><img src=\"https://colab.research.google.com/assets/colab-badge.svg\" alt=\"Open In Colab\"/></a>"
      ]
    },
    {
      "cell_type": "code",
      "metadata": {
        "id": "Zwq7856xoqOJ"
      },
      "source": [
        "#hide\n",
        "!pip install -Uqq fastbook\n",
        "import fastbook\n",
        "# fastbook.setup_book()"
      ],
      "execution_count": 1,
      "outputs": []
    },
    {
      "cell_type": "code",
      "metadata": {
        "id": "LSXYWIQEorlL"
      },
      "source": [
        "from fastbook import *"
      ],
      "execution_count": 3,
      "outputs": []
    },
    {
      "cell_type": "markdown",
      "metadata": {
        "id": "SdxUGdVInra_"
      },
      "source": [
        "## Questionnaire"
      ]
    },
    {
      "cell_type": "markdown",
      "metadata": {
        "id": "6WNabxMpnwHi"
      },
      "source": [
        "__1. What is `glob`?__\n",
        "\n",
        "A library to get files based on wildcard searches"
      ]
    },
    {
      "cell_type": "markdown",
      "metadata": {
        "id": "QIIyLROYoB8G"
      },
      "source": [
        "__2. How do you open an image with the Python imaging library?__"
      ]
    },
    {
      "cell_type": "code",
      "metadata": {
        "id": "zqCDCky7ygHj"
      },
      "source": [
        "path = untar_data(URLs.IMAGENETTE_160)"
      ],
      "execution_count": 9,
      "outputs": []
    },
    {
      "cell_type": "markdown",
      "metadata": {
        "id": "Fu-7j8edoSxh"
      },
      "source": [
        "__3. What does `L.map` do?__"
      ]
    },
    {
      "cell_type": "code",
      "metadata": {
        "colab": {
          "base_uri": "https://localhost:8080/"
        },
        "id": "hOfQck1LoT93",
        "outputId": "52b8d80c-6ba4-4e49-e792-33b84c2df800"
      },
      "source": [
        "from glob import glob\n",
        "\n",
        "def get_img_files(path):  \n",
        "  print(f'{path}/*/*/*.*G')\n",
        "  return L(glob(f'{path}/*/*/*.*G', recursive=True)).map(Path)\n",
        "\n",
        "files = get_img_files(path)"
      ],
      "execution_count": 10,
      "outputs": [
        {
          "output_type": "stream",
          "text": [
            "/root/.fastai/data/imagenette2-160/*/*/*.*G\n"
          ],
          "name": "stdout"
        }
      ]
    },
    {
      "cell_type": "markdown",
      "metadata": {
        "id": "mB06Yt2UsNh7"
      },
      "source": [
        "It applies the `Path` function to every cell of the list in L"
      ]
    },
    {
      "cell_type": "markdown",
      "metadata": {
        "id": "rcfPB0PiraLm"
      },
      "source": [
        "__4. What does `Self` do?__"
      ]
    },
    {
      "cell_type": "code",
      "metadata": {
        "colab": {
          "base_uri": "https://localhost:8080/"
        },
        "id": "ZkVuYaGkrcjp",
        "outputId": "86c9e8fe-9329-4a86-d2ca-bf3d2db205b5"
      },
      "source": [
        "lbls = files.map(Self.parent.name()).unique(); lbls"
      ],
      "execution_count": 11,
      "outputs": [
        {
          "output_type": "execute_result",
          "data": {
            "text/plain": [
              "(#10) ['n03394916','n03425413','n03417042','n03445777','n03000684','n03028079','n02102040','n01440764','n02979186','n03888257']"
            ]
          },
          "metadata": {
            "tags": []
          },
          "execution_count": 11
        }
      ]
    },
    {
      "cell_type": "markdown",
      "metadata": {
        "id": "wLIFc7-2sSFM"
      },
      "source": [
        "It allows you to access a particular cell of the list"
      ]
    },
    {
      "cell_type": "markdown",
      "metadata": {
        "id": "Xs98dlFbsYk4"
      },
      "source": [
        "__5. What is `L.val2idx`?__"
      ]
    },
    {
      "cell_type": "code",
      "metadata": {
        "colab": {
          "base_uri": "https://localhost:8080/"
        },
        "id": "XcU4qciSsaD-",
        "outputId": "5235b230-f33f-430c-b266-a2afbd95ef43"
      },
      "source": [
        "v2i = lbls.val2idx(); v2i"
      ],
      "execution_count": 12,
      "outputs": [
        {
          "output_type": "execute_result",
          "data": {
            "text/plain": [
              "{'n01440764': 7,\n",
              " 'n02102040': 6,\n",
              " 'n02979186': 8,\n",
              " 'n03000684': 4,\n",
              " 'n03028079': 5,\n",
              " 'n03394916': 0,\n",
              " 'n03417042': 2,\n",
              " 'n03425413': 1,\n",
              " 'n03445777': 3,\n",
              " 'n03888257': 9}"
            ]
          },
          "metadata": {
            "tags": []
          },
          "execution_count": 12
        }
      ]
    },
    {
      "cell_type": "markdown",
      "metadata": {
        "id": "bEeD7V3wsgbE"
      },
      "source": [
        "Creates a unique list of label and index"
      ]
    },
    {
      "cell_type": "markdown",
      "metadata": {
        "id": "sEeC9F83sjKq"
      },
      "source": [
        "__6. What methods do you need to implement to create your own `Dataset`?__"
      ]
    },
    {
      "cell_type": "code",
      "metadata": {
        "id": "wm2KolSVwWAV"
      },
      "source": [
        "# bare minimum\n",
        "class Dataset():\n",
        "    def __len__(self): pass\n",
        "    def __getitem__(self, i): pass"
      ],
      "execution_count": 13,
      "outputs": []
    },
    {
      "cell_type": "markdown",
      "metadata": {
        "id": "uZUOwkQnwr8P"
      },
      "source": [
        "__7. Why do we call `convert` when we open an image from Imagenette?__"
      ]
    },
    {
      "cell_type": "code",
      "metadata": {
        "id": "5YhJk7OTxDrg"
      },
      "source": [
        "img_path = files[0]"
      ],
      "execution_count": 14,
      "outputs": []
    },
    {
      "cell_type": "code",
      "metadata": {
        "colab": {
          "base_uri": "https://localhost:8080/",
          "height": 177
        },
        "id": "oQWq3f7nyZdX",
        "outputId": "9b39ee4f-b7ee-4473-db2c-32c95e975db6"
      },
      "source": [
        "import PIL\n",
        "PIL.Image.open(img_path)"
      ],
      "execution_count": 15,
      "outputs": [
        {
          "output_type": "execute_result",
          "data": {
            "image/png": "[encoded data removed]",
            "text/plain": [
              "<PIL.JpegImagePlugin.JpegImageFile image mode=RGB size=213x160 at 0x7FAD223BAF10>"
            ]
          },
          "metadata": {
            "tags": []
          },
          "execution_count": 15
        }
      ]
    },
    {
      "cell_type": "code",
      "metadata": {
        "colab": {
          "base_uri": "https://localhost:8080/",
          "height": 177
        },
        "id": "ol_fc-aDydA2",
        "outputId": "34ee7a53-57b5-47bd-cf49-cd27c4a39674"
      },
      "source": [
        "PIL.Image.open(img_path).convert('RGB')"
      ],
      "execution_count": 16,
      "outputs": [
        {
          "output_type": "execute_result",
          "data": {
            "image/png": "[encoded data removed]",
            "text/plain": [
              "<PIL.Image.Image image mode=RGB size=213x160 at 0x7FAD2245B550>"
            ]
          },
          "metadata": {
            "tags": []
          },
          "execution_count": 16
        }
      ]
    },
    {
      "cell_type": "markdown",
      "metadata": {
        "id": "mSlGkLnMyxsH"
      },
      "source": [
        "It removes the alpha channel if it's present. It converts an image to a jpeg format."
      ]
    },
    {
      "cell_type": "markdown",
      "metadata": {
        "id": "V2O2JjE1y9w5"
      },
      "source": [
        "__8. What does `~` do? How is it useful for splitting training and validation sets?__"
      ]
    },
    {
      "cell_type": "markdown",
      "metadata": {
        "id": "2miXqtOLzHYL"
      },
      "source": [
        "`~` negates the True/False operators is in the list. \n",
        "\n"
      ]
    },
    {
      "cell_type": "code",
      "metadata": {
        "id": "IRK7vS6Fy_7M"
      },
      "source": [
        "train_filt = L(o.parent.parent.name=='train' for o in files)\n",
        "train = files[train_filt] # returns all places where `train_filt` is `True` in the list `files`\n",
        "valid = files[~train_filt] # returns all places where `train_filt` is not `True` in the list `files`"
      ],
      "execution_count": 17,
      "outputs": []
    },
    {
      "cell_type": "markdown",
      "metadata": {
        "id": "K56JQPg3z0pz"
      },
      "source": [
        "__9. Does `~` work with the `L` or `Tensor` classes? What about NumPy arrays, Python lists, or pandas DataFrames?__"
      ]
    },
    {
      "cell_type": "markdown",
      "metadata": {
        "id": "Ch1GgHIe0D_K"
      },
      "source": [
        "Yes it does."
      ]
    },
    {
      "cell_type": "markdown",
      "metadata": {
        "id": "qpAalrGL0HHN"
      },
      "source": [
        "__10. What is `ProcessPoolExecutor`?__"
      ]
    },
    {
      "cell_type": "markdown",
      "metadata": {
        "id": "xwVXd3wS0gEJ"
      },
      "source": [
        "It allows for multiprocessing."
      ]
    },
    {
      "cell_type": "markdown",
      "metadata": {
        "id": "5QfC82bm0jNC"
      },
      "source": [
        "__11. How does `L.range(self.ds)` work?__"
      ]
    },
    {
      "cell_type": "code",
      "metadata": {
        "colab": {
          "base_uri": "https://localhost:8080/"
        },
        "id": "3M6qKk6z0knC",
        "outputId": "e74400cc-e307-4bfd-d677-9f5b313d862a"
      },
      "source": [
        "class Dataset:\n",
        "    def __init__(self, fns): self.fns=fns\n",
        "    def __len__(self): return len(self.fns)\n",
        "    def __getitem__(self, i):\n",
        "        im = Image.open(self.fns[i]).resize((64,64)).convert('RGB')\n",
        "        y = v2i[self.fns[i].parent.name]\n",
        "        return tensor(im).float()/255, tensor(y)\n",
        "\n",
        "train_ds,valid_ds = Dataset(train),Dataset(valid)\n",
        "x, y = train_ds[0]\n",
        "x.shape, y.shape"
      ],
      "execution_count": 18,
      "outputs": [
        {
          "output_type": "execute_result",
          "data": {
            "text/plain": [
              "(torch.Size([64, 64, 3]), torch.Size([]))"
            ]
          },
          "metadata": {
            "tags": []
          },
          "execution_count": 18
        }
      ]
    },
    {
      "cell_type": "code",
      "metadata": {
        "colab": {
          "base_uri": "https://localhost:8080/"
        },
        "id": "niw5Zqs-7qYQ",
        "outputId": "8fba2790-e110-41c5-a162-91fbf8ce4597"
      },
      "source": [
        "L.range(train_ds)"
      ],
      "execution_count": 19,
      "outputs": [
        {
          "output_type": "execute_result",
          "data": {
            "text/plain": [
              "(#9469) [0,1,2,3,4,5,6,7,8,9...]"
            ]
          },
          "metadata": {
            "tags": []
          },
          "execution_count": 19
        }
      ]
    },
    {
      "cell_type": "code",
      "metadata": {
        "colab": {
          "base_uri": "https://localhost:8080/"
        },
        "id": "3oCOM9HA76S_",
        "outputId": "f9b0f132-6588-40a6-ce51-795df0321cc0"
      },
      "source": [
        "[i for i in range(len(train_ds))][0:9]"
      ],
      "execution_count": 20,
      "outputs": [
        {
          "output_type": "execute_result",
          "data": {
            "text/plain": [
              "[0, 1, 2, 3, 4, 5, 6, 7, 8]"
            ]
          },
          "metadata": {
            "tags": []
          },
          "execution_count": 20
        }
      ]
    },
    {
      "cell_type": "markdown",
      "metadata": {
        "id": "4BESOpuo75eg"
      },
      "source": [
        "It returns a list of integers of length `ds`"
      ]
    },
    {
      "cell_type": "markdown",
      "metadata": {
        "id": "MOHOPmq58IFc"
      },
      "source": [
        "__12. What is `__iter__`?__\n"
      ]
    },
    {
      "cell_type": "code",
      "metadata": {
        "colab": {
          "base_uri": "https://localhost:8080/"
        },
        "id": "MZoZExwN8KHv",
        "outputId": "3f5505d3-0e78-46a2-b1bc-60eb0e98ebc8"
      },
      "source": [
        "def collate(idxs, ds): \n",
        "    xb,yb = zip(*[ds[i] for i in idxs])\n",
        "    return torch.stack(xb),torch.stack(yb)\n",
        "\n",
        "class DataLoader:\n",
        "    def __init__(self, ds, bs=128, shuffle=False, n_workers=1):\n",
        "        self.ds,self.bs,self.shuffle,self.n_workers = ds,bs,shuffle,n_workers\n",
        "\n",
        "    def __len__(self): return (len(self.ds)-1)//self.bs+1\n",
        "\n",
        "    def __iter__(self):\n",
        "        idxs = L.range(self.ds)\n",
        "        if self.shuffle: idxs = idxs.shuffle()\n",
        "        chunks = [idxs[n:n+self.bs] for n in range(0, len(self.ds), self.bs)]\n",
        "        with ProcessPoolExecutor(self.n_workers) as ex:\n",
        "            yield from ex.map(collate, chunks, ds=self.ds)\n",
        "\n",
        "train_dl = DataLoader(train_ds, bs=128, shuffle=True, n_workers=16)\n",
        "valid_dl = DataLoader(valid_ds, bs=128, shuffle=True, n_workers=16)\n",
        "xb,yb = first(train_dl)\n",
        "xb.shape,yb.shape,len(train_dl)"
      ],
      "execution_count": 30,
      "outputs": [
        {
          "output_type": "execute_result",
          "data": {
            "text/plain": [
              "(torch.Size([128, 64, 64, 3]), torch.Size([128]), 74)"
            ]
          },
          "metadata": {
            "tags": []
          },
          "execution_count": 30
        }
      ]
    },
    {
      "cell_type": "markdown",
      "metadata": {
        "id": "xzXhT40YCWbw"
      },
      "source": [
        "It returns the iterator"
      ]
    },
    {
      "cell_type": "markdown",
      "metadata": {
        "id": "St6b0rf8Bse4"
      },
      "source": [
        "__13. What is `first`?__\n",
        "\n",
        "Gives you the first batch in the dl"
      ]
    },
    {
      "cell_type": "markdown",
      "metadata": {
        "id": "RxVKulBrCeLK"
      },
      "source": [
        "__14. What is `permute`? Why is it needed?__\n",
        "\n",
        "We use it to convert `NHWC` to `NCHW`. PIL uses the former but we need the latter for PyTorch.\n"
      ]
    },
    {
      "cell_type": "markdown",
      "metadata": {
        "id": "I4steP6CCs4P"
      },
      "source": [
        "__15. What is a recursive function? How does it help us define the `parameters` method?__\n",
        "\n",
        "A function that calls itself.\n",
        "\n"
      ]
    },
    {
      "cell_type": "markdown",
      "metadata": {
        "id": "zY0UsSbS8xtW"
      },
      "source": [
        "__16. Write a recursive function that returns the first 20 items of the Fibonacci sequence.__"
      ]
    },
    {
      "cell_type": "code",
      "metadata": {
        "colab": {
          "base_uri": "https://localhost:8080/"
        },
        "id": "f712QN0a82b3",
        "outputId": "c1fc6582-0b62-4a43-e9ee-4d7c4ebf92fa"
      },
      "source": [
        "def _r_fibonacci(n):\n",
        "  if n==0: return 0\n",
        "  if n==1: return 1\n",
        "  return _r_fibonacci(n-1) + _r_fibonacci(n-2)\n",
        "\n",
        "def get_fibonacci(n):\n",
        "  return [_r_fibonacci(i) for i in range(n)]\n",
        "\n",
        "get_fibonacci(20)"
      ],
      "execution_count": 31,
      "outputs": [
        {
          "output_type": "execute_result",
          "data": {
            "text/plain": [
              "[0,\n",
              " 1,\n",
              " 1,\n",
              " 2,\n",
              " 3,\n",
              " 5,\n",
              " 8,\n",
              " 13,\n",
              " 21,\n",
              " 34,\n",
              " 55,\n",
              " 89,\n",
              " 144,\n",
              " 233,\n",
              " 377,\n",
              " 610,\n",
              " 987,\n",
              " 1597,\n",
              " 2584,\n",
              " 4181]"
            ]
          },
          "metadata": {
            "tags": []
          },
          "execution_count": 31
        }
      ]
    },
    {
      "cell_type": "markdown",
      "metadata": {
        "id": "V9Z6zK-R-ImJ"
      },
      "source": [
        "__17. What is `super`?__\n",
        "\n",
        "It's an object that allows you to access methods of the base class\n",
        "\n",
        "\n",
        "https://www.programiz.com/python-programming/methods/built-in/super#:~:text=The%20super()%20builtin%20returns,Working%20with%20Multiple%20Inheritance"
      ]
    },
    {
      "cell_type": "markdown",
      "metadata": {
        "id": "kVSW9Rp4_Sw0"
      },
      "source": [
        "__18. Why do subclasses of `Module` need to override `forward` instead of defining `__call__`?__\n",
        "\n",
        "`__call__` is already defined in `Module`. `__call__` *calls* the forward function and runs the hooks."
      ]
    },
    {
      "cell_type": "markdown",
      "metadata": {
        "id": "zNtixLOX_2mJ"
      },
      "source": [
        "__19. In `ConvLayer`, why does `init` depend on `act`?__\n",
        "\n",
        "`Kaiming init` deals with the dying ReLU problem quite well. If we don't have any `ReLU`'s then we should probably use a different kind of init\n"
      ]
    },
    {
      "cell_type": "markdown",
      "metadata": {
        "id": "hrPtjLstCQ3W"
      },
      "source": [
        "__20. Why does `Sequential` need to call `register_modules`?__\n",
        "\n",
        "In order to show the contents of the layer in parameters\n"
      ]
    },
    {
      "cell_type": "markdown",
      "metadata": {
        "id": "_pDR--WKF1Ch"
      },
      "source": [
        "__21. Write a hook that prints the shape of every layer's activations.__\n",
        "\n"
      ]
    },
    {
      "cell_type": "code",
      "metadata": {
        "id": "rGgmgkugGuWd"
      },
      "source": [
        "class Parameter(Tensor):\n",
        "    def __new__(self, x): return Tensor._make_subclass(Parameter, x, True)\n",
        "    def __init__(self, *args, **kwargs): self.requires_grad_()\n",
        "\n",
        "class Module:\n",
        "    def __init__(self):\n",
        "        self.hook,self.params,self.children,self._training = None,[],[],False\n",
        "        \n",
        "    def register_parameters(self, *ps): self.params += ps\n",
        "    def register_modules   (self, *ms): self.children += ms\n",
        "        \n",
        "    @property\n",
        "    def training(self): return self._training\n",
        "    @training.setter\n",
        "    def training(self,v):\n",
        "        self._training = v\n",
        "        for m in self.children: m.training=v\n",
        "            \n",
        "    def parameters(self):\n",
        "        return self.params + sum([m.parameters() for m in self.children], [])\n",
        "\n",
        "    def __setattr__(self,k,v):\n",
        "        super().__setattr__(k,v)\n",
        "        if isinstance(v,Parameter): self.register_parameters(v)\n",
        "        if isinstance(v,Module):    self.register_modules(v)\n",
        "        \n",
        "    def __call__(self, *args, **kwargs):\n",
        "        res = self.forward(*args, **kwargs)\n",
        "        if self.hook is not None: self.hook(res, args)\n",
        "        return res\n",
        "    \n",
        "    def cuda(self):\n",
        "        for p in self.parameters(): p.data = p.data.cuda()\n",
        "''\n",
        "class ConvLayer(Module):\n",
        "    def __init__(self, ni, nf, stride=1, bias=True, act=True):\n",
        "        super().__init__()\n",
        "        self.w = Parameter(torch.zeros(nf,ni,3,3))\n",
        "        self.b = Parameter(torch.zeros(nf)) if bias else None\n",
        "        self.act,self.stride = act,stride\n",
        "        init = nn.init.kaiming_normal_ if act else nn.init.xavier_normal_\n",
        "        init(self.w)\n",
        "    \n",
        "    def forward(self, x):\n",
        "        x = F.conv2d(x, self.w, self.b, stride=self.stride, padding=1)\n",
        "        if self.act: x = F.relu(x)\n",
        "        return x\n",
        "\n",
        "class Sequential(Module):\n",
        "    def __init__(self, *layers):\n",
        "        super().__init__()\n",
        "        self.layers = layers\n",
        "        self.register_modules(*layers)\n",
        "\n",
        "    def forward(self, x):\n",
        "        for l in self.layers: x = l(x)\n",
        "        return x\n",
        "\n",
        "class AdaptivePool(Module):\n",
        "    def forward(self, x): return x.mean((2,3))\n",
        "\n",
        "class Linear(Module):\n",
        "    def __init__(self, ni, nf):\n",
        "        super().__init__()\n",
        "        self.w = Parameter(torch.zeros(nf,ni))\n",
        "        self.b = Parameter(torch.zeros(nf))\n",
        "        nn.init.xavier_normal_(self.w)\n",
        "    \n",
        "    def forward(self, x): return x@self.w.t() + self.b"
      ],
      "execution_count": 32,
      "outputs": []
    },
    {
      "cell_type": "code",
      "metadata": {
        "id": "U_GPmLZBHblT"
      },
      "source": [
        "def simple_cnn():\n",
        "    return Sequential(\n",
        "        ConvLayer(3,16 ,stride=2), #32\n",
        "        ConvLayer(16,32 ,stride=2), #16\n",
        "        ConvLayer(32,64 ,stride=2), # 8\n",
        "        ConvLayer(64,128,stride=2), # 4\n",
        "        AdaptivePool(),\n",
        "        Linear(128, 10)\n",
        "    )"
      ],
      "execution_count": 33,
      "outputs": []
    },
    {
      "cell_type": "code",
      "metadata": {
        "colab": {
          "base_uri": "https://localhost:8080/"
        },
        "id": "2gGbpVzFHCiA",
        "outputId": "6a1cf7f6-6365-48fb-884d-0ba4c35d436f"
      },
      "source": [
        "m = simple_cnn()\n",
        "len(m.parameters())"
      ],
      "execution_count": 34,
      "outputs": [
        {
          "output_type": "execute_result",
          "data": {
            "text/plain": [
              "10"
            ]
          },
          "metadata": {
            "tags": []
          },
          "execution_count": 34
        }
      ]
    },
    {
      "cell_type": "code",
      "metadata": {
        "id": "QcHXEfftJarH"
      },
      "source": [
        "class Normalize:\n",
        "    def __init__(self, stats): self.stats=stats\n",
        "    def __call__(self, x):\n",
        "        if x.device != self.stats[0].device:\n",
        "            self.stats = to_device(self.stats, x.device)\n",
        "        return (x-self.stats[0])/self.stats[1]\n",
        "\n",
        "stats = [xb.mean((0,1,2)),xb.std((0,1,2))]\n",
        "norm = Normalize(stats)\n",
        "\n",
        "def tfm_x(x): return norm(x).permute((0,3,1,2))\n",
        "\n",
        "xbt = tfm_x(xb)"
      ],
      "execution_count": 35,
      "outputs": []
    },
    {
      "cell_type": "code",
      "metadata": {
        "colab": {
          "base_uri": "https://localhost:8080/"
        },
        "id": "X0Ildnq2JylG",
        "outputId": "ba747c8f-9084-492c-94b5-f0731cb886f4"
      },
      "source": [
        "def print_stats(outp, inp): \n",
        "  print(outp.shape)\n",
        "\n",
        "for i in range(4): \n",
        "  m.layers[i].hook = print_stats\n",
        "\n",
        "r = m(xbt)\n",
        "r.shape"
      ],
      "execution_count": 36,
      "outputs": [
        {
          "output_type": "stream",
          "text": [
            "torch.Size([128, 16, 32, 32])\n",
            "torch.Size([128, 32, 16, 16])\n",
            "torch.Size([128, 64, 8, 8])\n",
            "torch.Size([128, 128, 4, 4])\n"
          ],
          "name": "stdout"
        },
        {
          "output_type": "execute_result",
          "data": {
            "text/plain": [
              "torch.Size([128, 10])"
            ]
          },
          "metadata": {
            "tags": []
          },
          "execution_count": 36
        }
      ]
    },
    {
      "cell_type": "markdown",
      "metadata": {
        "id": "-n0oTnxqKM9g"
      },
      "source": [
        "__22. What is \"LogSumExp\"?__\n",
        "\n",
        "$$\\log \\left ( \\sum_{j=1}^{n} e^{x_{j}} \\right ) = \\log \\left ( e^{a} \\sum_{j=1}^{n} e^{x_{j}-a} \\right ) = a + \\log \\left ( \\sum_{j=1}^{n} e^{x_{j}-a} \\right )$$\n",
        "\n",
        "where $a$ is the maximum of $x_{j}$."
      ]
    },
    {
      "cell_type": "markdown",
      "metadata": {
        "id": "WwWdQ0FENrIG"
      },
      "source": [
        "__23. Why is `log_softmax` useful?__\n",
        "\n",
        "Improved numerical performance. This can be useful as training can be computationally expensive.\n",
        "\n",
        "\n",
        "https://datascience.stackexchange.com/questions/40714/what-is-the-advantage-of-using-log-softmax-instead-of-softmax"
      ]
    },
    {
      "cell_type": "markdown",
      "metadata": {
        "id": "QHKpB7SePaSi"
      },
      "source": [
        "__24. What is `GetAttr`? How is it helpful for callbacks?__\n",
        "\n",
        "It's a fastai class that implements standard `__getattr__` and `__dir__` methods for you.\n",
        "\n",
        "This allows us to set up the default: `_default='learner'`\n",
        "\n",
        "\n"
      ]
    },
    {
      "cell_type": "markdown",
      "metadata": {
        "id": "Vk723EGLRKFi"
      },
      "source": [
        "__25. Reimplement one of the callbacks in this chapter without inheriting from `Callback` or `GetAttr`.__\n",
        "\n"
      ]
    },
    {
      "cell_type": "code",
      "metadata": {
        "id": "QN60y0bJTFnK"
      },
      "source": [
        "# class SetupLearnerCB(Callback):\n",
        "#     _default='learner'\n",
        "#     def before_batch(self):\n",
        "#         xb,yb = to_device(self.batch)\n",
        "#         self.learner.batch = tfm_x(xb),yb\n",
        "\n",
        "#     def before_fit(self): self.model.cuda()"
      ],
      "execution_count": 37,
      "outputs": []
    },
    {
      "cell_type": "markdown",
      "metadata": {
        "id": "9jxJGdX0WFWb"
      },
      "source": [
        "__26. What does `Learner.__call__` do?__\n",
        "\n",
        "It returns the callback with the requested name. \n",
        "\n",
        "This allows for `self('before_fit')` to call `cb.before_fit()`"
      ]
    },
    {
      "cell_type": "markdown",
      "metadata": {
        "id": "jIbcc2wbYHJM"
      },
      "source": [
        "__27. What is `getattr`? (Note the case difference to `GetAttr`!)__\n",
        "\n",
        "A python function for returning the method with the request name.\n",
        "\n",
        "`GetAttr` is a fastai class (explanation in question 24)"
      ]
    },
    {
      "cell_type": "markdown",
      "metadata": {
        "id": "zKY6tRaaYYgz"
      },
      "source": [
        "__28. Why is there a `try` block in `fit`?__\n",
        "\n",
        "So we can add `CancelFitException` to the fit function. This will be included in the except clause."
      ]
    },
    {
      "cell_type": "markdown",
      "metadata": {
        "id": "xLQuqYhoY_gK"
      },
      "source": [
        "__29. Why do we check for `model.training` in `one_batch`?__\n",
        "\n",
        "We could be running the model for inference. In this case we don't need to run .backward() the weights."
      ]
    },
    {
      "cell_type": "markdown",
      "metadata": {
        "id": "fU-BYblFakKZ"
      },
      "source": [
        "__30. What is `store_attr`?__\n",
        "\n",
        "It's a function that creates self variables for us. For example:\n",
        "\n",
        "```python\n",
        "store_attr(self, 'params,lr,wd')\n",
        "```\n",
        "\n",
        "is equivalent to\n",
        "\n",
        "```python\n",
        "self.params\n",
        "self.lr\n",
        "self.wd\n",
        "```\n",
        "\n",
        "\n"
      ]
    },
    {
      "cell_type": "markdown",
      "metadata": {
        "id": "9kLD3VxlbbA9"
      },
      "source": [
        "__31. What is the purpose of `TrackResults.before_epoch`?__\n",
        "\n",
        "To create the following variables:\n",
        "\n",
        "```python\n",
        "self.accs,self.losses,self.ns\n",
        "```\n",
        "\n",
        "These variables will then be used later in the class"
      ]
    },
    {
      "cell_type": "markdown",
      "metadata": {
        "id": "83TkqNjWeA1-"
      },
      "source": [
        "__32. What does `model.cuda` do? How does it work?__\n",
        "\n",
        "It moves all parameters to the GPU before fit"
      ]
    },
    {
      "cell_type": "markdown",
      "metadata": {
        "id": "EF1eGgtqidC9"
      },
      "source": [
        "__33. Why do we need to check model.training in LRFinder and OneCycle?__\n",
        "\n",
        "If we're not training the model that OneCycle and LRFinder aren't really needed. So `LRFinder` and `OneCycle` should just `return`."
      ]
    },
    {
      "cell_type": "markdown",
      "metadata": {
        "id": "wlE5ZMRRnu0N"
      },
      "source": [
        "__34. Use cosine annealing in `OneCycle`.__\n"
      ]
    },
    {
      "cell_type": "code",
      "metadata": {
        "id": "B6jjHKsXkrwO"
      },
      "source": [
        "class DataLoaders:\n",
        "    def __init__(self, *dls): self.train_ds,self.valid_ds = dls\n",
        "\n",
        "dls = DataLoaders(train_dl, valid_dl)"
      ],
      "execution_count": 38,
      "outputs": []
    },
    {
      "cell_type": "code",
      "metadata": {
        "colab": {
          "base_uri": "https://localhost:8080/"
        },
        "id": "h-0dZD2lslTb",
        "outputId": "4e871a4e-f885-4e9e-fbdb-aecaa36b299d"
      },
      "source": [
        "dls.train_ds"
      ],
      "execution_count": 39,
      "outputs": [
        {
          "output_type": "execute_result",
          "data": {
            "text/plain": [
              "<__main__.DataLoader at 0x7fad22574fd0>"
            ]
          },
          "metadata": {
            "tags": []
          },
          "execution_count": 39
        }
      ]
    },
    {
      "cell_type": "code",
      "metadata": {
        "id": "XtuZc61oklzK"
      },
      "source": [
        "class Learner:\n",
        "    def __init__(self, model, dls, loss_func, lr, cbs, opt_func=SGD):\n",
        "        store_attr(self, 'model,dls,loss_func,lr,cbs,opt_func')\n",
        "        for cb in cbs: cb.learner = self\n",
        "\n",
        "    def one_batch(self):\n",
        "        self('before_batch')\n",
        "        xb,yb = self.batch\n",
        "        self.preds = self.model(xb)\n",
        "        self.loss = self.loss_func(self.preds, yb)\n",
        "        if self.model.training:\n",
        "            self.loss.backward()\n",
        "            self.opt.step()\n",
        "        self('after_batch')\n",
        "\n",
        "    def one_epoch(self, train):\n",
        "        self.model.training = train\n",
        "        self('before_epoch')\n",
        "        dl = self.dls.train if train else self.dls.valid\n",
        "        for self.num,self.batch in enumerate(progress_bar(dl, leave=False)):\n",
        "            self.one_batch()\n",
        "        self('after_epoch')\n",
        "    \n",
        "    def fit(self, n_epochs):\n",
        "        self('before_fit')\n",
        "        self.opt = self.opt_func(self.model.parameters(), self.lr)\n",
        "        self.n_epochs = n_epochs\n",
        "        try:\n",
        "            for self.epoch in range(n_epochs):\n",
        "                self.one_epoch(True)\n",
        "                self.one_epoch(False)\n",
        "        except CancelFitException: pass\n",
        "        self('after_fit')\n",
        "        \n",
        "    def __call__(self,name):\n",
        "        for cb in self.cbs: getattr(cb,name,noop)()\n",
        "\n",
        "class OneCycle(Callback):\n",
        "    def __init__(self, base_lr): self.base_lr = base_lr\n",
        "    def before_fit(self): self.lrs = []\n",
        "\n",
        "    def before_batch(self):\n",
        "        if not self.model.training: return\n",
        "        n = len(self.dls.train)\n",
        "        bn = self.epoch*n + self.num\n",
        "        mn = self.n_epochs*n\n",
        "        pct = bn/mn\n",
        "        pct_start,div_start = 0.25,10\n",
        "        if pct<pct_start:\n",
        "            pct /= pct_start\n",
        "            lr = (1-pct)*self.base_lr/div_start + pct*self.base_lr\n",
        "        else:\n",
        "            pct = (pct-pct_start)/(1-pct_start)\n",
        "            lr = (1-pct)*self.base_lr\n",
        "        self.opt.lr = lr\n",
        "        self.lrs.append(lr)\n",
        "\n",
        "class SetupLearnerCB(Callback):\n",
        "    def before_batch(self):\n",
        "        xb,yb = to_device(self.batch)\n",
        "        self.learner.batch = tfm_x(xb),yb\n",
        "\n",
        "    def before_fit(self): self.model.cuda()\n",
        "\n",
        "class TrackResults(Callback):\n",
        "    def before_epoch(self): self.accs,self.losses,self.ns = [],[],[]\n",
        "        \n",
        "    def after_epoch(self):\n",
        "        n = sum(self.ns)\n",
        "        print(self.epoch, self.model.training,\n",
        "              sum(self.losses).item()/n, sum(self.accs).item()/n)\n",
        "        \n",
        "    def after_batch(self):\n",
        "        xb,yb = self.batch\n",
        "        acc = (self.preds.argmax(dim=1)==yb).float().sum()\n",
        "        self.accs.append(acc)\n",
        "        n = len(xb)\n",
        "        self.losses.append(self.loss*n)\n",
        "        self.ns.append(n)\n",
        "\n",
        "class SetupLearnerCB(Callback):\n",
        "    def before_batch(self):\n",
        "        xb,yb = to_device(self.batch)\n",
        "        self.learner.batch = tfm_x(xb),yb\n",
        "\n",
        "    def before_fit(self): self.model.cuda()\n",
        "\n",
        "class TrackResults(Callback):\n",
        "    def before_epoch(self): self.accs,self.losses,self.ns = [],[],[]\n",
        "        \n",
        "    def after_epoch(self):\n",
        "        n = sum(self.ns)\n",
        "        print(self.epoch, self.model.training,\n",
        "              sum(self.losses).item()/n, sum(self.accs).item()/n)\n",
        "        \n",
        "    def after_batch(self):\n",
        "        xb,yb = self.batch\n",
        "        acc = (self.preds.argmax(dim=1)==yb).float().sum()\n",
        "        self.accs.append(acc)\n",
        "        n = len(xb)\n",
        "        self.losses.append(self.loss*n)\n",
        "        self.ns.append(n)"
      ],
      "execution_count": 40,
      "outputs": []
    },
    {
      "cell_type": "code",
      "metadata": {
        "id": "EEBzmd8WlpiM"
      },
      "source": [
        "def nll(input, target): return -input[range(target.shape[0]), target].mean()\n",
        "def cross_entropy(preds, yb): return nll(log_softmax(preds), yb).mean()\n",
        "def log_softmax(x): return x - x.logsumexp(-1,keepdim=True)"
      ],
      "execution_count": 41,
      "outputs": []
    },
    {
      "cell_type": "code",
      "metadata": {
        "colab": {
          "base_uri": "https://localhost:8080/"
        },
        "id": "NuW9pcM_s97w",
        "outputId": "16a9d6f7-ac2b-4f65-eed5-0cb728f5421d"
      },
      "source": [
        "pip install fastcore==1.0.0"
      ],
      "execution_count": 42,
      "outputs": [
        {
          "output_type": "stream",
          "text": [
            "Requirement already satisfied: fastcore==1.0.0 in /usr/local/lib/python3.7/dist-packages (1.0.0)\n",
            "Requirement already satisfied: wheel in /usr/local/lib/python3.7/dist-packages (from fastcore==1.0.0) (0.36.2)\n",
            "Requirement already satisfied: packaging in /usr/local/lib/python3.7/dist-packages (from fastcore==1.0.0) (20.9)\n",
            "Requirement already satisfied: pip in /usr/local/lib/python3.7/dist-packages (from fastcore==1.0.0) (19.3.1)\n",
            "Requirement already satisfied: dataclasses in /usr/local/lib/python3.7/dist-packages (from fastcore==1.0.0) (0.6)\n",
            "Requirement already satisfied: numpy in /usr/local/lib/python3.7/dist-packages (from fastcore==1.0.0) (1.19.5)\n",
            "Requirement already satisfied: pyparsing>=2.0.2 in /usr/local/lib/python3.7/dist-packages (from packaging->fastcore==1.0.0) (2.4.7)\n"
          ],
          "name": "stdout"
        }
      ]
    },
    {
      "cell_type": "code",
      "metadata": {
        "id": "ydqKjn02oSGd",
        "colab": {
          "base_uri": "https://localhost:8080/",
          "height": 256
        },
        "outputId": "6912f949-4dc3-4558-d910-eb59fc4ae421"
      },
      "source": [
        "cbs = [SetupLearnerCB(),TrackResults()]\n",
        "onecyc = OneCycle(0.1)\n",
        "learn = Learner(simple_cnn(), dls, cross_entropy, lr=0.1, cbs=cbs+[onecyc])"
      ],
      "execution_count": 43,
      "outputs": [
        {
          "output_type": "error",
          "ename": "AttributeError",
          "evalue": "ignored",
          "traceback": [
            "\u001b[0;31m---------------------------------------------------------------------------\u001b[0m",
            "\u001b[0;31mAttributeError\u001b[0m                            Traceback (most recent call last)",
            "\u001b[0;32m<ipython-input-43-33325a8fa6f6>\u001b[0m in \u001b[0;36m<module>\u001b[0;34m()\u001b[0m\n\u001b[1;32m      1\u001b[0m \u001b[0mcbs\u001b[0m \u001b[0;34m=\u001b[0m \u001b[0;34m[\u001b[0m\u001b[0mSetupLearnerCB\u001b[0m\u001b[0;34m(\u001b[0m\u001b[0;34m)\u001b[0m\u001b[0;34m,\u001b[0m\u001b[0mTrackResults\u001b[0m\u001b[0;34m(\u001b[0m\u001b[0;34m)\u001b[0m\u001b[0;34m]\u001b[0m\u001b[0;34m\u001b[0m\u001b[0;34m\u001b[0m\u001b[0m\n\u001b[1;32m      2\u001b[0m \u001b[0monecyc\u001b[0m \u001b[0;34m=\u001b[0m \u001b[0mOneCycle\u001b[0m\u001b[0;34m(\u001b[0m\u001b[0;36m0.1\u001b[0m\u001b[0;34m)\u001b[0m\u001b[0;34m\u001b[0m\u001b[0;34m\u001b[0m\u001b[0m\n\u001b[0;32m----> 3\u001b[0;31m \u001b[0mlearn\u001b[0m \u001b[0;34m=\u001b[0m \u001b[0mLearner\u001b[0m\u001b[0;34m(\u001b[0m\u001b[0msimple_cnn\u001b[0m\u001b[0;34m(\u001b[0m\u001b[0;34m)\u001b[0m\u001b[0;34m,\u001b[0m \u001b[0mdls\u001b[0m\u001b[0;34m,\u001b[0m \u001b[0mcross_entropy\u001b[0m\u001b[0;34m,\u001b[0m \u001b[0mlr\u001b[0m\u001b[0;34m=\u001b[0m\u001b[0;36m0.1\u001b[0m\u001b[0;34m,\u001b[0m \u001b[0mcbs\u001b[0m\u001b[0;34m=\u001b[0m\u001b[0mcbs\u001b[0m\u001b[0;34m+\u001b[0m\u001b[0;34m[\u001b[0m\u001b[0monecyc\u001b[0m\u001b[0;34m]\u001b[0m\u001b[0;34m)\u001b[0m\u001b[0;34m\u001b[0m\u001b[0;34m\u001b[0m\u001b[0m\n\u001b[0m",
            "\u001b[0;32m<ipython-input-40-95d800bd141c>\u001b[0m in \u001b[0;36m__init__\u001b[0;34m(self, model, dls, loss_func, lr, cbs, opt_func)\u001b[0m\n\u001b[1;32m      1\u001b[0m \u001b[0;32mclass\u001b[0m \u001b[0mLearner\u001b[0m\u001b[0;34m:\u001b[0m\u001b[0;34m\u001b[0m\u001b[0;34m\u001b[0m\u001b[0m\n\u001b[1;32m      2\u001b[0m     \u001b[0;32mdef\u001b[0m \u001b[0m__init__\u001b[0m\u001b[0;34m(\u001b[0m\u001b[0mself\u001b[0m\u001b[0;34m,\u001b[0m \u001b[0mmodel\u001b[0m\u001b[0;34m,\u001b[0m \u001b[0mdls\u001b[0m\u001b[0;34m,\u001b[0m \u001b[0mloss_func\u001b[0m\u001b[0;34m,\u001b[0m \u001b[0mlr\u001b[0m\u001b[0;34m,\u001b[0m \u001b[0mcbs\u001b[0m\u001b[0;34m,\u001b[0m \u001b[0mopt_func\u001b[0m\u001b[0;34m=\u001b[0m\u001b[0mSGD\u001b[0m\u001b[0;34m)\u001b[0m\u001b[0;34m:\u001b[0m\u001b[0;34m\u001b[0m\u001b[0;34m\u001b[0m\u001b[0m\n\u001b[0;32m----> 3\u001b[0;31m         \u001b[0mstore_attr\u001b[0m\u001b[0;34m(\u001b[0m\u001b[0mself\u001b[0m\u001b[0;34m,\u001b[0m \u001b[0;34m'model,dls,loss_func,lr,cbs,opt_func'\u001b[0m\u001b[0;34m)\u001b[0m\u001b[0;34m\u001b[0m\u001b[0;34m\u001b[0m\u001b[0m\n\u001b[0m\u001b[1;32m      4\u001b[0m         \u001b[0;32mfor\u001b[0m \u001b[0mcb\u001b[0m \u001b[0;32min\u001b[0m \u001b[0mcbs\u001b[0m\u001b[0;34m:\u001b[0m \u001b[0mcb\u001b[0m\u001b[0;34m.\u001b[0m\u001b[0mlearner\u001b[0m \u001b[0;34m=\u001b[0m \u001b[0mself\u001b[0m\u001b[0;34m\u001b[0m\u001b[0;34m\u001b[0m\u001b[0m\n\u001b[1;32m      5\u001b[0m \u001b[0;34m\u001b[0m\u001b[0m\n",
            "\u001b[0;32m/usr/local/lib/python3.7/dist-packages/fastcore/basics.py\u001b[0m in \u001b[0;36mstore_attr\u001b[0;34m(names, self, but, cast, store_args, **attrs)\u001b[0m\n",
            "\u001b[0;31mAttributeError\u001b[0m: 'str' object has no attribute '__stored_args__'"
          ]
        }
      ]
    },
    {
      "cell_type": "markdown",
      "metadata": {
        "id": "iFvoSB6_tz5f"
      },
      "source": [
        "same thing using fastai"
      ]
    },
    {
      "cell_type": "code",
      "metadata": {
        "colab": {
          "base_uri": "https://localhost:8080/",
          "height": 83,
          "referenced_widgets": [
            "7d0a80d4bed2426c819cb1946362711e",
            "7aec4fe3c2f54e3190956b1300b638fd",
            "c141034f46ae4575adcb51caba61c460",
            "5ee52b9c99924959a4097e2768cf3fb3",
            "f420dcb892aa449c8a66ab5e9b56be0c",
            "c2ca83edbae84a2fa66ffa621dcbab48",
            "0e7c218bb25842c58c39a1f98273e0da",
            "e3c21353348245e6a959a6a98640f99e"
          ]
        },
        "id": "WYMGEC7jse-X",
        "outputId": "af4e7188-4a37-4430-b5b2-fa195e01f11f"
      },
      "source": [
        "path = untar_data(URLs.PETS)/'images'\n",
        "def is_cat(x): return x[0].isupper()\n",
        "dls = ImageDataLoaders.from_name_func(\n",
        "    path, get_image_files(path), valid_pct=0.2, seed=21,\n",
        "    label_func=is_cat, item_tfms=Resize(224))\n",
        "\n",
        "learn = cnn_learner(dls, resnet34, metrics=error_rate)"
      ],
      "execution_count": 44,
      "outputs": [
        {
          "output_type": "display_data",
          "data": {
            "text/html": [
              ""
            ],
            "text/plain": [
              "<IPython.core.display.HTML object>"
            ]
          },
          "metadata": {
            "tags": []
          }
        },
        {
          "output_type": "stream",
          "text": [
            "Downloading: \"https://download.pytorch.org/models/resnet34-333f7ec4.pth\" to /root/.cache/torch/hub/checkpoints/resnet34-333f7ec4.pth\n"
          ],
          "name": "stderr"
        },
        {
          "output_type": "display_data",
          "data": {
            "application/vnd.jupyter.widget-view+json": {
              "model_id": "7d0a80d4bed2426c819cb1946362711e",
              "version_minor": 0,
              "version_major": 2
            },
            "text/plain": [
              "HBox(children=(FloatProgress(value=0.0, max=87306240.0), HTML(value='')))"
            ]
          },
          "metadata": {
            "tags": []
          }
        },
        {
          "output_type": "stream",
          "text": [
            "\n"
          ],
          "name": "stdout"
        }
      ]
    },
    {
      "cell_type": "code",
      "metadata": {
        "colab": {
          "base_uri": "https://localhost:8080/",
          "height": 317
        },
        "id": "Z8caj-OotwF8",
        "outputId": "4aa0046f-3fdc-4872-bc61-b21c1a6eeeb1"
      },
      "source": [
        "learn.fit_one_cycle(1, 1e-3, moms=(0.95, 0.85))"
      ],
      "execution_count": 55,
      "outputs": [
        {
          "output_type": "error",
          "ename": "TypeError",
          "evalue": "ignored",
          "traceback": [
            "\u001b[0;31m---------------------------------------------------------------------------\u001b[0m",
            "\u001b[0;31mTypeError\u001b[0m                                 Traceback (most recent call last)",
            "\u001b[0;32m<ipython-input-55-4f5570c92b26>\u001b[0m in \u001b[0;36m<module>\u001b[0;34m()\u001b[0m\n\u001b[1;32m      1\u001b[0m \u001b[0;34m\u001b[0m\u001b[0m\n\u001b[0;32m----> 2\u001b[0;31m \u001b[0mlearn\u001b[0m\u001b[0;34m.\u001b[0m\u001b[0mfit_one_cycle\u001b[0m\u001b[0;34m(\u001b[0m\u001b[0;36m1\u001b[0m\u001b[0;34m,\u001b[0m \u001b[0;36m1e-3\u001b[0m\u001b[0;34m,\u001b[0m \u001b[0mmoms\u001b[0m \u001b[0;34m=\u001b[0m \u001b[0;34m(\u001b[0m\u001b[0;36m0.95\u001b[0m\u001b[0;34m,\u001b[0m \u001b[0;36m0.85\u001b[0m\u001b[0;34m)\u001b[0m\u001b[0;34m)\u001b[0m\u001b[0;34m\u001b[0m\u001b[0;34m\u001b[0m\u001b[0m\n\u001b[0m",
            "\u001b[0;32m/usr/local/lib/python3.7/dist-packages/fastai/callback/schedule.py\u001b[0m in \u001b[0;36mfit_one_cycle\u001b[0;34m(self, n_epoch, lr_max, div, div_final, pct_start, wd, moms, cbs, reset_opt)\u001b[0m\n\u001b[1;32m    109\u001b[0m     \u001b[0mlr_max\u001b[0m \u001b[0;34m=\u001b[0m \u001b[0mnp\u001b[0m\u001b[0;34m.\u001b[0m\u001b[0marray\u001b[0m\u001b[0;34m(\u001b[0m\u001b[0;34m[\u001b[0m\u001b[0mh\u001b[0m\u001b[0;34m[\u001b[0m\u001b[0;34m'lr'\u001b[0m\u001b[0;34m]\u001b[0m \u001b[0;32mfor\u001b[0m \u001b[0mh\u001b[0m \u001b[0;32min\u001b[0m \u001b[0mself\u001b[0m\u001b[0;34m.\u001b[0m\u001b[0mopt\u001b[0m\u001b[0;34m.\u001b[0m\u001b[0mhypers\u001b[0m\u001b[0;34m]\u001b[0m\u001b[0;34m)\u001b[0m\u001b[0;34m\u001b[0m\u001b[0;34m\u001b[0m\u001b[0m\n\u001b[1;32m    110\u001b[0m     scheds = {'lr': combined_cos(pct_start, lr_max/div, lr_max, lr_max/div_final),\n\u001b[0;32m--> 111\u001b[0;31m               'mom': combined_cos(pct_start, *(self.moms if moms is None else moms))}\n\u001b[0m\u001b[1;32m    112\u001b[0m     \u001b[0mself\u001b[0m\u001b[0;34m.\u001b[0m\u001b[0mfit\u001b[0m\u001b[0;34m(\u001b[0m\u001b[0mn_epoch\u001b[0m\u001b[0;34m,\u001b[0m \u001b[0mcbs\u001b[0m\u001b[0;34m=\u001b[0m\u001b[0mParamScheduler\u001b[0m\u001b[0;34m(\u001b[0m\u001b[0mscheds\u001b[0m\u001b[0;34m)\u001b[0m\u001b[0;34m+\u001b[0m\u001b[0mL\u001b[0m\u001b[0;34m(\u001b[0m\u001b[0mcbs\u001b[0m\u001b[0;34m)\u001b[0m\u001b[0;34m,\u001b[0m \u001b[0mreset_opt\u001b[0m\u001b[0;34m=\u001b[0m\u001b[0mreset_opt\u001b[0m\u001b[0;34m,\u001b[0m \u001b[0mwd\u001b[0m\u001b[0;34m=\u001b[0m\u001b[0mwd\u001b[0m\u001b[0;34m)\u001b[0m\u001b[0;34m\u001b[0m\u001b[0;34m\u001b[0m\u001b[0m\n\u001b[1;32m    113\u001b[0m \u001b[0;34m\u001b[0m\u001b[0m\n",
            "\u001b[0;31mTypeError\u001b[0m: combined_cos() missing 1 required positional argument: 'end'"
          ]
        }
      ]
    },
    {
      "cell_type": "code",
      "metadata": {
        "id": "IuRrRb1gu3UO"
      },
      "source": [
        ""
      ],
      "execution_count": null,
      "outputs": []
    }
  ]
}