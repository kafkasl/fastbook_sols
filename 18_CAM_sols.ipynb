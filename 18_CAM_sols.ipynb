{
  "nbformat": 4,
  "nbformat_minor": 0,
  "metadata": {
    "colab": {
      "name": "18_CAM_sols.ipynb",
      "provenance": [],
      "collapsed_sections": [],
      "toc_visible": true,
      "authorship_tag": "ABX9TyNfpDNF/+jWRJpF8kjJ95OR",
      "include_colab_link": true
    },
    "kernelspec": {
      "name": "python3",
      "display_name": "Python 3"
    },
    "language_info": {
      "name": "python"
    },
    "widgets": {
      "application/vnd.jupyter.widget-state+json": {
        "143a7c9aa9584bd0be215281918668c4": {
          "model_module": "@jupyter-widgets/controls",
          "model_name": "HBoxModel",
          "state": {
            "_view_name": "HBoxView",
            "_dom_classes": [],
            "_model_name": "HBoxModel",
            "_view_module": "@jupyter-widgets/controls",
            "_model_module_version": "1.5.0",
            "_view_count": null,
            "_view_module_version": "1.5.0",
            "box_style": "",
            "layout": "IPY_MODEL_21583d3012fc480c86091a4b4cc5a1fe",
            "_model_module": "@jupyter-widgets/controls",
            "children": [
              "IPY_MODEL_7d892d84a96343d4ae51bdddbf3aead7",
              "IPY_MODEL_f00b3d2d39db42aaa0bdfebd34dca5b0"
            ]
          }
        },
        "21583d3012fc480c86091a4b4cc5a1fe": {
          "model_module": "@jupyter-widgets/base",
          "model_name": "LayoutModel",
          "state": {
            "_view_name": "LayoutView",
            "grid_template_rows": null,
            "right": null,
            "justify_content": null,
            "_view_module": "@jupyter-widgets/base",
            "overflow": null,
            "_model_module_version": "1.2.0",
            "_view_count": null,
            "flex_flow": null,
            "width": null,
            "min_width": null,
            "border": null,
            "align_items": null,
            "bottom": null,
            "_model_module": "@jupyter-widgets/base",
            "top": null,
            "grid_column": null,
            "overflow_y": null,
            "overflow_x": null,
            "grid_auto_flow": null,
            "grid_area": null,
            "grid_template_columns": null,
            "flex": null,
            "_model_name": "LayoutModel",
            "justify_items": null,
            "grid_row": null,
            "max_height": null,
            "align_content": null,
            "visibility": null,
            "align_self": null,
            "height": null,
            "min_height": null,
            "padding": null,
            "grid_auto_rows": null,
            "grid_gap": null,
            "max_width": null,
            "order": null,
            "_view_module_version": "1.2.0",
            "grid_template_areas": null,
            "object_position": null,
            "object_fit": null,
            "grid_auto_columns": null,
            "margin": null,
            "display": null,
            "left": null
          }
        },
        "7d892d84a96343d4ae51bdddbf3aead7": {
          "model_module": "@jupyter-widgets/controls",
          "model_name": "FloatProgressModel",
          "state": {
            "_view_name": "ProgressView",
            "style": "IPY_MODEL_413d446c2a44489a99b3c193c73bf34b",
            "_dom_classes": [],
            "description": "100%",
            "_model_name": "FloatProgressModel",
            "bar_style": "success",
            "max": 87306240,
            "_view_module": "@jupyter-widgets/controls",
            "_model_module_version": "1.5.0",
            "value": 87306240,
            "_view_count": null,
            "_view_module_version": "1.5.0",
            "orientation": "horizontal",
            "min": 0,
            "description_tooltip": null,
            "_model_module": "@jupyter-widgets/controls",
            "layout": "IPY_MODEL_0eafeeb1554b401e812acc897cae9c7c"
          }
        },
        "f00b3d2d39db42aaa0bdfebd34dca5b0": {
          "model_module": "@jupyter-widgets/controls",
          "model_name": "HTMLModel",
          "state": {
            "_view_name": "HTMLView",
            "style": "IPY_MODEL_1829ea8503594a3ebfbf03f5063ab3b2",
            "_dom_classes": [],
            "description": "",
            "_model_name": "HTMLModel",
            "placeholder": "​",
            "_view_module": "@jupyter-widgets/controls",
            "_model_module_version": "1.5.0",
            "value": " 83.3M/83.3M [00:02&lt;00:00, 39.1MB/s]",
            "_view_count": null,
            "_view_module_version": "1.5.0",
            "description_tooltip": null,
            "_model_module": "@jupyter-widgets/controls",
            "layout": "IPY_MODEL_dcdd55223d764d6e926e7b6a16a3b9e5"
          }
        },
        "413d446c2a44489a99b3c193c73bf34b": {
          "model_module": "@jupyter-widgets/controls",
          "model_name": "ProgressStyleModel",
          "state": {
            "_view_name": "StyleView",
            "_model_name": "ProgressStyleModel",
            "description_width": "initial",
            "_view_module": "@jupyter-widgets/base",
            "_model_module_version": "1.5.0",
            "_view_count": null,
            "_view_module_version": "1.2.0",
            "bar_color": null,
            "_model_module": "@jupyter-widgets/controls"
          }
        },
        "0eafeeb1554b401e812acc897cae9c7c": {
          "model_module": "@jupyter-widgets/base",
          "model_name": "LayoutModel",
          "state": {
            "_view_name": "LayoutView",
            "grid_template_rows": null,
            "right": null,
            "justify_content": null,
            "_view_module": "@jupyter-widgets/base",
            "overflow": null,
            "_model_module_version": "1.2.0",
            "_view_count": null,
            "flex_flow": null,
            "width": null,
            "min_width": null,
            "border": null,
            "align_items": null,
            "bottom": null,
            "_model_module": "@jupyter-widgets/base",
            "top": null,
            "grid_column": null,
            "overflow_y": null,
            "overflow_x": null,
            "grid_auto_flow": null,
            "grid_area": null,
            "grid_template_columns": null,
            "flex": null,
            "_model_name": "LayoutModel",
            "justify_items": null,
            "grid_row": null,
            "max_height": null,
            "align_content": null,
            "visibility": null,
            "align_self": null,
            "height": null,
            "min_height": null,
            "padding": null,
            "grid_auto_rows": null,
            "grid_gap": null,
            "max_width": null,
            "order": null,
            "_view_module_version": "1.2.0",
            "grid_template_areas": null,
            "object_position": null,
            "object_fit": null,
            "grid_auto_columns": null,
            "margin": null,
            "display": null,
            "left": null
          }
        },
        "1829ea8503594a3ebfbf03f5063ab3b2": {
          "model_module": "@jupyter-widgets/controls",
          "model_name": "DescriptionStyleModel",
          "state": {
            "_view_name": "StyleView",
            "_model_name": "DescriptionStyleModel",
            "description_width": "",
            "_view_module": "@jupyter-widgets/base",
            "_model_module_version": "1.5.0",
            "_view_count": null,
            "_view_module_version": "1.2.0",
            "_model_module": "@jupyter-widgets/controls"
          }
        },
        "dcdd55223d764d6e926e7b6a16a3b9e5": {
          "model_module": "@jupyter-widgets/base",
          "model_name": "LayoutModel",
          "state": {
            "_view_name": "LayoutView",
            "grid_template_rows": null,
            "right": null,
            "justify_content": null,
            "_view_module": "@jupyter-widgets/base",
            "overflow": null,
            "_model_module_version": "1.2.0",
            "_view_count": null,
            "flex_flow": null,
            "width": null,
            "min_width": null,
            "border": null,
            "align_items": null,
            "bottom": null,
            "_model_module": "@jupyter-widgets/base",
            "top": null,
            "grid_column": null,
            "overflow_y": null,
            "overflow_x": null,
            "grid_auto_flow": null,
            "grid_area": null,
            "grid_template_columns": null,
            "flex": null,
            "_model_name": "LayoutModel",
            "justify_items": null,
            "grid_row": null,
            "max_height": null,
            "align_content": null,
            "visibility": null,
            "align_self": null,
            "height": null,
            "min_height": null,
            "padding": null,
            "grid_auto_rows": null,
            "grid_gap": null,
            "max_width": null,
            "order": null,
            "_view_module_version": "1.2.0",
            "grid_template_areas": null,
            "object_position": null,
            "object_fit": null,
            "grid_auto_columns": null,
            "margin": null,
            "display": null,
            "left": null
          }
        }
      }
    }
  },
  "cells": [
    {
      "cell_type": "markdown",
      "metadata": {
        "id": "view-in-github",
        "colab_type": "text"
      },
      "source": [
        "<a href=\"https://colab.research.google.com/github/spiyer99/fastbook_sols/blob/master/18_CAM_sols.ipynb\" target=\"_parent\"><img src=\"https://colab.research.google.com/assets/colab-badge.svg\" alt=\"Open In Colab\"/></a>"
      ]
    },
    {
      "cell_type": "code",
      "metadata": {
        "colab": {
          "base_uri": "https://localhost:8080/"
        },
        "id": "sTTCeSjXUwB9",
        "outputId": "952b8523-3c4b-492f-bb01-d23e4a1201b5"
      },
      "source": [
        "#hide\n",
        "!pip install -q fastbook\n",
        "import fastbook\n",
        "# fastbook.setup_book()"
      ],
      "execution_count": null,
      "outputs": [
        {
          "output_type": "stream",
          "text": [
            "\u001b[K     |████████████████████████████████| 727kB 4.5MB/s \n",
            "\u001b[K     |████████████████████████████████| 194kB 9.3MB/s \n",
            "\u001b[K     |████████████████████████████████| 51kB 3.5MB/s \n",
            "\u001b[K     |████████████████████████████████| 1.2MB 10.1MB/s \n",
            "\u001b[K     |████████████████████████████████| 12.8MB 20.1MB/s \n",
            "\u001b[K     |████████████████████████████████| 776.8MB 23kB/s \n",
            "\u001b[K     |████████████████████████████████| 61kB 6.4MB/s \n",
            "\u001b[K     |████████████████████████████████| 51kB 5.2MB/s \n",
            "\u001b[31mERROR: torchtext 0.9.1 has requirement torch==1.8.1, but you'll have torch 1.7.1 which is incompatible.\u001b[0m\n",
            "\u001b[?25h"
          ],
          "name": "stdout"
        }
      ]
    },
    {
      "cell_type": "code",
      "metadata": {
        "id": "aLh04WAQUwdm"
      },
      "source": [
        "#hide\n",
        "from fastbook import *"
      ],
      "execution_count": null,
      "outputs": []
    },
    {
      "cell_type": "markdown",
      "metadata": {
        "id": "CVlVPZfvm4A6"
      },
      "source": [
        "## Questionnaire"
      ]
    },
    {
      "cell_type": "markdown",
      "metadata": {
        "id": "10bHbGB9m_v-"
      },
      "source": [
        "__1. What is a \"hook\" in PyTorch?__\n",
        "\n",
        "They are very similar to fastai's callbacks. However, with a hook you can modify the code for the forward and backward calucations. "
      ]
    },
    {
      "cell_type": "markdown",
      "metadata": {
        "id": "h9KlDN__nk87"
      },
      "source": [
        "__2. Which layer does CAM use the outputs of?__\n",
        "\n",
        "The last conv layer"
      ]
    },
    {
      "cell_type": "markdown",
      "metadata": {
        "id": "y4YwzJaVoAFu"
      },
      "source": [
        "__3. Why does CAM require a hook?__\n",
        "\n",
        "Because we need to store the activations of the last layer. This can be done with a hook."
      ]
    },
    {
      "cell_type": "markdown",
      "metadata": {
        "id": "4i1XhzduuS9r"
      },
      "source": [
        "__4. Look at the source code of the `ActivationStats` class and see how it uses hooks.__"
      ]
    },
    {
      "cell_type": "markdown",
      "metadata": {
        "id": "TW7Ubm2XvSIM"
      },
      "source": [
        "__5. Write a hook that stores the activations of a given layer in a model (without peeking, if possible).__"
      ]
    },
    {
      "cell_type": "code",
      "metadata": {
        "id": "Tswtb3KtvTuu"
      },
      "source": [
        "class ActivationsStore(HookCallback):\n",
        "  def __init__(self): \n",
        "    super().__init__()\n",
        "  def hook_func(self, m, i, o):\n",
        "    self.stored = o.detach().clone()"
      ],
      "execution_count": null,
      "outputs": []
    },
    {
      "cell_type": "markdown",
      "metadata": {
        "id": "qmjhaEvwv7v5"
      },
      "source": [
        "__6. Why do we call `eval` before getting the activations? Why do we use `no_grad`?__\n",
        "\n"
      ]
    },
    {
      "cell_type": "code",
      "metadata": {
        "colab": {
          "base_uri": "https://localhost:8080/",
          "height": 103,
          "referenced_widgets": [
            "143a7c9aa9584bd0be215281918668c4",
            "21583d3012fc480c86091a4b4cc5a1fe",
            "7d892d84a96343d4ae51bdddbf3aead7",
            "f00b3d2d39db42aaa0bdfebd34dca5b0",
            "413d446c2a44489a99b3c193c73bf34b",
            "0eafeeb1554b401e812acc897cae9c7c",
            "1829ea8503594a3ebfbf03f5063ab3b2",
            "dcdd55223d764d6e926e7b6a16a3b9e5"
          ]
        },
        "id": "vdpHSWrcwJpR",
        "outputId": "c5d38ff5-af1a-4876-927f-8c0e51faf4eb"
      },
      "source": [
        "path = untar_data(URLs.PETS)/'images'\n",
        "def is_cat(x): return x[0].isupper()\n",
        "dls = ImageDataLoaders.from_name_func(\n",
        "    path, get_image_files(path), valid_pct=0.2, seed=21,\n",
        "    label_func=is_cat, item_tfms=Resize(224))\n",
        "\n",
        "learn = cnn_learner(dls, resnet34, metrics=error_rate)\n",
        "# learn.fine_tune(1)"
      ],
      "execution_count": null,
      "outputs": [
        {
          "output_type": "display_data",
          "data": {
            "text/html": [
              ""
            ],
            "text/plain": [
              "<IPython.core.display.HTML object>"
            ]
          },
          "metadata": {
            "tags": []
          }
        },
        {
          "output_type": "stream",
          "text": [
            "Downloading: \"https://download.pytorch.org/models/resnet34-333f7ec4.pth\" to /root/.cache/torch/hub/checkpoints/resnet34-333f7ec4.pth\n"
          ],
          "name": "stderr"
        },
        {
          "output_type": "display_data",
          "data": {
            "application/vnd.jupyter.widget-view+json": {
              "model_id": "143a7c9aa9584bd0be215281918668c4",
              "version_minor": 0,
              "version_major": 2
            },
            "text/plain": [
              "HBox(children=(FloatProgress(value=0.0, max=87306240.0), HTML(value='')))"
            ]
          },
          "metadata": {
            "tags": []
          }
        },
        {
          "output_type": "stream",
          "text": [
            "\n"
          ],
          "name": "stdout"
        }
      ]
    },
    {
      "cell_type": "code",
      "metadata": {
        "colab": {
          "base_uri": "https://localhost:8080/"
        },
        "id": "2ZJE4mD1wwLz",
        "outputId": "9bc10272-d7da-454d-df7b-258623381698"
      },
      "source": [
        "!wget https://storage.googleapis.com/pr-newsroom-wp/1/2020/05/IMG_1874-copy-1.jpg # joe rogan"
      ],
      "execution_count": null,
      "outputs": [
        {
          "output_type": "stream",
          "text": [
            "--2021-04-19 06:45:16--  https://storage.googleapis.com/pr-newsroom-wp/1/2020/05/IMG_1874-copy-1.jpg\n",
            "Resolving storage.googleapis.com (storage.googleapis.com)... 173.194.210.128, 173.194.211.128, 173.194.213.128, ...\n",
            "Connecting to storage.googleapis.com (storage.googleapis.com)|173.194.210.128|:443... connected.\n",
            "HTTP request sent, awaiting response... 200 OK\n",
            "Length: 1098530 (1.0M) [image/jpeg]\n",
            "Saving to: ‘IMG_1874-copy-1.jpg’\n",
            "\n",
            "\rIMG_1874-copy-1.jpg   0%[                    ]       0  --.-KB/s               \rIMG_1874-copy-1.jpg 100%[===================>]   1.05M  --.-KB/s    in 0.008s  \n",
            "\n",
            "2021-04-19 06:45:16 (124 MB/s) - ‘IMG_1874-copy-1.jpg’ saved [1098530/1098530]\n",
            "\n"
          ],
          "name": "stdout"
        }
      ]
    },
    {
      "cell_type": "code",
      "metadata": {
        "id": "ILO7nmk7wLqN"
      },
      "source": [
        "img = PILImage.create('IMG_1874-copy-1.jpg')\n",
        "x, = first(dls.test_dl([img]))"
      ],
      "execution_count": null,
      "outputs": []
    },
    {
      "cell_type": "code",
      "metadata": {
        "id": "8lSZH-SnwNWT"
      },
      "source": [
        "hook_output = ActivationsStore()\n",
        "hook = learn.model[0].register_forward_hook(hook_output.hook_func)"
      ],
      "execution_count": null,
      "outputs": []
    },
    {
      "cell_type": "code",
      "metadata": {
        "id": "ESwh16oDwTlF"
      },
      "source": [
        "with torch.no_grad(): \n",
        "  output = learn.model.eval()(x)"
      ],
      "execution_count": null,
      "outputs": []
    },
    {
      "cell_type": "code",
      "metadata": {
        "colab": {
          "base_uri": "https://localhost:8080/"
        },
        "id": "8dGWevZveZUl",
        "outputId": "42f88986-c5a0-424a-9228-259e39339436"
      },
      "source": [
        "output"
      ],
      "execution_count": null,
      "outputs": [
        {
          "output_type": "execute_result",
          "data": {
            "text/plain": [
              "tensor([[ 4.7868, -0.1780]])"
            ]
          },
          "metadata": {
            "tags": []
          },
          "execution_count": 9
        }
      ]
    },
    {
      "cell_type": "markdown",
      "metadata": {
        "id": "51W-usr-yE-v"
      },
      "source": [
        "[`learn.model.eval()`](https://stackoverflow.com/questions/60018578/what-does-model-eval-do-in-pytorch#:~:text=eval()%20is%20a%20kind,will%20do%20it%20for%20you): Sets up the model for inference. (Eg. turns off batchnorm layers, dropout layers, etc.).\n",
        "\n",
        "[`torch.no_grad`](https://stackoverflow.com/questions/63351268/torch-no-grad-affects-on-model-accuracy#:~:text=1-,torch.,to%20later%20calculate%20a%20gradient.&text=Up%20vote%201-,torch.,weight%20in%20the%20specified%20layers): This disables the tracking of calculations required to calculate the gradient. Reduces runtime and saves memory.\n"
      ]
    },
    {
      "cell_type": "markdown",
      "metadata": {
        "id": "bUzXHg7WywVi"
      },
      "source": [
        "__7. Use `torch.einsum` to compute the \"dog\" or \"cat\" score of each of the locations in the last activation of the body of the model.__\n",
        "\n"
      ]
    },
    {
      "cell_type": "code",
      "metadata": {
        "colab": {
          "base_uri": "https://localhost:8080/"
        },
        "id": "gDKG2Pwi0Ccq",
        "outputId": "ee60238d-b839-4209-b794-b98cb2a9d332"
      },
      "source": [
        "act = hook_output.stored[0]\n",
        "len(act), act.shape"
      ],
      "execution_count": null,
      "outputs": [
        {
          "output_type": "execute_result",
          "data": {
            "text/plain": [
              "(512, torch.Size([512, 7, 7]))"
            ]
          },
          "metadata": {
            "tags": []
          },
          "execution_count": 10
        }
      ]
    },
    {
      "cell_type": "code",
      "metadata": {
        "colab": {
          "base_uri": "https://localhost:8080/"
        },
        "id": "vqrFlV3T0FdW",
        "outputId": "c6a69b1f-de61-497e-9ac4-6b5c7835ad99"
      },
      "source": [
        "F.softmax(output, dim=-1)"
      ],
      "execution_count": null,
      "outputs": [
        {
          "output_type": "execute_result",
          "data": {
            "text/plain": [
              "tensor([[0.9931, 0.0069]])"
            ]
          },
          "metadata": {
            "tags": []
          },
          "execution_count": 11
        }
      ]
    },
    {
      "cell_type": "code",
      "metadata": {
        "colab": {
          "base_uri": "https://localhost:8080/"
        },
        "id": "1a81d1rB1C-x",
        "outputId": "fb981273-e15d-4875-af8f-3ef919ab7598"
      },
      "source": [
        "dls.vocab"
      ],
      "execution_count": null,
      "outputs": [
        {
          "output_type": "execute_result",
          "data": {
            "text/plain": [
              "[False, True]"
            ]
          },
          "metadata": {
            "tags": []
          },
          "execution_count": 12
        }
      ]
    },
    {
      "cell_type": "markdown",
      "metadata": {
        "id": "ZIXJPxyvfe8h"
      },
      "source": [
        "Therefore this is highly likely to be a dog"
      ]
    },
    {
      "cell_type": "code",
      "metadata": {
        "colab": {
          "base_uri": "https://localhost:8080/"
        },
        "id": "EZWufAr-1lPp",
        "outputId": "a28ef0f6-6a6b-4183-9938-c630a32ad026"
      },
      "source": [
        "cam_map = torch.einsum('ck,kij->cij', learn.model[1][-1].weight, act)\n",
        "cam_map.shape"
      ],
      "execution_count": null,
      "outputs": [
        {
          "output_type": "execute_result",
          "data": {
            "text/plain": [
              "torch.Size([2, 7, 7])"
            ]
          },
          "metadata": {
            "tags": []
          },
          "execution_count": 13
        }
      ]
    },
    {
      "cell_type": "code",
      "metadata": {
        "colab": {
          "base_uri": "https://localhost:8080/",
          "height": 265
        },
        "id": "yTO250Xf4t4V",
        "outputId": "00b1be6c-1aa4-49e0-9022-c316ee7f21cf"
      },
      "source": [
        "x_dec = TensorImage(dls.train.decode((x,))[0][0])\n",
        "_,ax = plt.subplots()\n",
        "x_dec.show(ctx=ax)\n",
        "ax.imshow(cam_map[1].detach().cpu(), alpha=0.6, extent=(0,224,224,0),\n",
        "              interpolation='bilinear', cmap='magma')"
      ],
      "execution_count": null,
      "outputs": [
        {
          "output_type": "execute_result",
          "data": {
            "text/plain": [
              "<matplotlib.image.AxesImage at 0x7f946bed5ad0>"
            ]
          },
          "metadata": {
            "tags": []
          },
          "execution_count": 14
        },
        {
          "output_type": "display_data",
          "data": {
            "image/png": "[encoded data removed]",
            "text/plain": [
              "<Figure size 432x288 with 1 Axes>"
            ]
          },
          "metadata": {
            "tags": [],
            "needs_background": "light"
          }
        }
      ]
    },
    {
      "cell_type": "markdown",
      "metadata": {
        "id": "b6xX2P7efjro"
      },
      "source": [
        "__8. How do you check which order the categories are in (i.e., the correspondence of index->category)?__\n",
        "\n",
        "We can use `dls.vocab` to check the classes."
      ]
    },
    {
      "cell_type": "code",
      "metadata": {
        "colab": {
          "base_uri": "https://localhost:8080/"
        },
        "id": "a4ZhMjEyfzwh",
        "outputId": "b56ee1e3-0b09-4776-dd21-d10d96caf28e"
      },
      "source": [
        "dls.vocab"
      ],
      "execution_count": null,
      "outputs": [
        {
          "output_type": "execute_result",
          "data": {
            "text/plain": [
              "[False, True]"
            ]
          },
          "metadata": {
            "tags": []
          },
          "execution_count": 15
        }
      ]
    },
    {
      "cell_type": "markdown",
      "metadata": {
        "id": "EA281-Tlf1C4"
      },
      "source": [
        "index `0` is a Dog. index `1` is a Cat."
      ]
    },
    {
      "cell_type": "markdown",
      "metadata": {
        "id": "FUw8m6RUf6iU"
      },
      "source": [
        "__9. Why are we using `decode` when displaying the input image?__\n",
        "\n",
        "We have to denormalize the data"
      ]
    },
    {
      "cell_type": "code",
      "metadata": {
        "colab": {
          "base_uri": "https://localhost:8080/"
        },
        "id": "4J7zKGLqgqaN",
        "outputId": "ab6a22aa-f823-42e9-b271-c31c252fbaaa"
      },
      "source": [
        "dls.train.decode((x,))[0][0]"
      ],
      "execution_count": null,
      "outputs": [
        {
          "output_type": "execute_result",
          "data": {
            "text/plain": [
              "TensorImage([[[13, 17, 11,  ..., 48, 34, 25],\n",
              "         [14, 16, 13,  ..., 50, 38, 28],\n",
              "         [13, 16, 14,  ..., 55, 41, 31],\n",
              "         ...,\n",
              "         [22, 20, 18,  ..., 16, 20, 16],\n",
              "         [17, 18, 18,  ..., 18, 16, 12],\n",
              "         [18, 17, 17,  ..., 19, 17, 13]],\n",
              "\n",
              "        [[14, 17, 12,  ..., 57, 41, 28],\n",
              "         [14, 16, 13,  ..., 59, 45, 33],\n",
              "         [14, 16, 15,  ..., 64, 49, 37],\n",
              "         ...,\n",
              "         [27, 23, 21,  ..., 23, 25, 21],\n",
              "         [22, 22, 22,  ..., 23, 21, 16],\n",
              "         [22, 21, 21,  ..., 24, 22, 16]],\n",
              "\n",
              "        [[19, 23, 18,  ..., 60, 44, 34],\n",
              "         [20, 22, 20,  ..., 62, 49, 37],\n",
              "         [21, 23, 22,  ..., 67, 52, 39],\n",
              "         ...,\n",
              "         [37, 30, 27,  ..., 29, 32, 27],\n",
              "         [30, 29, 28,  ..., 30, 27, 21],\n",
              "         [32, 29, 27,  ..., 30, 28, 21]]])"
            ]
          },
          "metadata": {
            "tags": []
          },
          "execution_count": 16
        }
      ]
    },
    {
      "cell_type": "code",
      "metadata": {
        "colab": {
          "base_uri": "https://localhost:8080/"
        },
        "id": "ZDb85J4bghYz",
        "outputId": "18bf0f15-4d11-412f-e2a6-7988b9166aef"
      },
      "source": [
        "dls.train.decode((x,))[0][0].shape"
      ],
      "execution_count": null,
      "outputs": [
        {
          "output_type": "execute_result",
          "data": {
            "text/plain": [
              "torch.Size([3, 224, 224])"
            ]
          },
          "metadata": {
            "tags": []
          },
          "execution_count": 17
        }
      ]
    },
    {
      "cell_type": "code",
      "metadata": {
        "colab": {
          "base_uri": "https://localhost:8080/",
          "height": 241
        },
        "id": "yvqjQhtwg-5J",
        "outputId": "d2129d47-75c9-468b-9483-8671e140d5ee"
      },
      "source": [
        "to_image(dls.train.decode((x,))[0][0])"
      ],
      "execution_count": null,
      "outputs": [
        {
          "output_type": "execute_result",
          "data": {
            "image/png": "[encoded data removed]",
            "text/plain": [
              "<PIL.Image.Image image mode=RGB size=224x224 at 0x7F946BCBAD90>"
            ]
          },
          "metadata": {
            "tags": []
          },
          "execution_count": 18
        }
      ]
    },
    {
      "cell_type": "code",
      "metadata": {
        "colab": {
          "base_uri": "https://localhost:8080/"
        },
        "id": "TFNszuUFhHy9",
        "outputId": "b3428213-7b57-4e6f-a67c-60a408296c55"
      },
      "source": [
        "act_map_img = cam_map[1].detach().cpu()\n",
        "act_map_img = act_map_img[None, :]\n",
        "act_map_img.shape"
      ],
      "execution_count": null,
      "outputs": [
        {
          "output_type": "execute_result",
          "data": {
            "text/plain": [
              "torch.Size([1, 7, 7])"
            ]
          },
          "metadata": {
            "tags": []
          },
          "execution_count": 19
        }
      ]
    },
    {
      "cell_type": "code",
      "metadata": {
        "colab": {
          "base_uri": "https://localhost:8080/"
        },
        "id": "aDa2QUKehwqW",
        "outputId": "72e9b27d-f52c-4165-9eda-706f7c23ff81"
      },
      "source": [
        "t = torch.zeros(3, *act_map_img.shape[1:]) # 3 channels (for RGB)\n",
        "t.shape"
      ],
      "execution_count": null,
      "outputs": [
        {
          "output_type": "execute_result",
          "data": {
            "text/plain": [
              "torch.Size([3, 7, 7])"
            ]
          },
          "metadata": {
            "tags": []
          },
          "execution_count": 20
        }
      ]
    },
    {
      "cell_type": "code",
      "metadata": {
        "colab": {
          "base_uri": "https://localhost:8080/"
        },
        "id": "nN8w_MuDhoJE",
        "outputId": "ce9af4a8-9816-460e-c572-3c39cfbe58d2"
      },
      "source": [
        "t1 = (act_map_img + t) # broadcasting\n",
        "t1.shape"
      ],
      "execution_count": null,
      "outputs": [
        {
          "output_type": "execute_result",
          "data": {
            "text/plain": [
              "torch.Size([3, 7, 7])"
            ]
          },
          "metadata": {
            "tags": []
          },
          "execution_count": 21
        }
      ]
    },
    {
      "cell_type": "code",
      "metadata": {
        "colab": {
          "base_uri": "https://localhost:8080/",
          "height": 282
        },
        "id": "1I4VeHb6h8od",
        "outputId": "101d26e2-27e3-4a19-8e40-fdbafa8aebb0"
      },
      "source": [
        "img = to_image(t1)\n",
        "plt.imshow(img)"
      ],
      "execution_count": null,
      "outputs": [
        {
          "output_type": "execute_result",
          "data": {
            "text/plain": [
              "<matplotlib.image.AxesImage at 0x7f946bceea50>"
            ]
          },
          "metadata": {
            "tags": []
          },
          "execution_count": 22
        },
        {
          "output_type": "display_data",
          "data": {
            "image/png": "[encoded data removed]",
            "text/plain": [
              "<Figure size 432x288 with 1 Axes>"
            ]
          },
          "metadata": {
            "tags": [],
            "needs_background": "light"
          }
        }
      ]
    },
    {
      "cell_type": "code",
      "metadata": {
        "colab": {
          "base_uri": "https://localhost:8080/",
          "height": 265
        },
        "id": "TkpGyHBtgaKL",
        "outputId": "eaff2fd6-6bc3-4a6d-9532-dad555edc194"
      },
      "source": [
        "x_dec = TensorImage(dls.train.decode((x,))[0][0])\n",
        "_,ax = plt.subplots()\n",
        "x_dec.show(ctx=ax)\n",
        "ax.imshow(cam_map[1].detach().cpu(), alpha=0.6, extent=(0,224,224,0),\n",
        "              interpolation='bilinear', cmap='magma')"
      ],
      "execution_count": null,
      "outputs": [
        {
          "output_type": "execute_result",
          "data": {
            "text/plain": [
              "<matplotlib.image.AxesImage at 0x7f946bb41210>"
            ]
          },
          "metadata": {
            "tags": []
          },
          "execution_count": 23
        },
        {
          "output_type": "display_data",
          "data": {
            "image/png": "[encoded data removed]",
            "text/plain": [
              "<Figure size 432x288 with 1 Axes>"
            ]
          },
          "metadata": {
            "tags": [],
            "needs_background": "light"
          }
        }
      ]
    },
    {
      "cell_type": "markdown",
      "metadata": {
        "id": "CBCaOPPziyys"
      },
      "source": [
        "__10. What is a \"context manager\"? What special methods need to be defined to create one?__\n",
        "\n",
        "It's a python construct that calls `__enter__` and `__exit__`. We have to define the enter and exit methods to use this."
      ]
    },
    {
      "cell_type": "markdown",
      "metadata": {
        "id": "h8pHL3kvjHe7"
      },
      "source": [
        "__11. Why can't we use plain CAM for the inner layers of a network?__\n",
        "\n",
        "We need to get the gradients of each layer. These are not stored with plain CAM.\n",
        "\n"
      ]
    },
    {
      "cell_type": "markdown",
      "metadata": {
        "id": "Fnup9NQun1hf"
      },
      "source": [
        "__12. Why do we need to register a hook on the backward pass in order to do Grad-CAM?__\n",
        "\n",
        "In order to store the gradients."
      ]
    },
    {
      "cell_type": "markdown",
      "metadata": {
        "id": "X9pVhjjUm9C-"
      },
      "source": [
        "__13. Why can't we call `output.backward()` when `output` is a rank-2 tensor of output activations per image per class?__\n",
        "\n"
      ]
    },
    {
      "cell_type": "code",
      "metadata": {
        "id": "L0iraUU3v3x6"
      },
      "source": [
        "class HookBwd():\n",
        "    def __init__(self, m):\n",
        "        self.hook = m.register_backward_hook(self.hook_func)   \n",
        "    def hook_func(self, m, gi, go): self.stored = go[0].detach().clone()\n",
        "    def __enter__(self, *args): return self\n",
        "    def __exit__(self, *args): self.hook.remove()"
      ],
      "execution_count": null,
      "outputs": []
    },
    {
      "cell_type": "code",
      "metadata": {
        "id": "A0YZrCXRwBq4"
      },
      "source": [
        "class Hook():\n",
        "    def __init__(self, m):\n",
        "        self.hook = m.register_forward_hook(self.hook_func)   \n",
        "    def hook_func(self, m, i, o): self.stored = o.detach().clone()\n",
        "    def __enter__(self, *args): return self\n",
        "    def __exit__(self, *args): self.hook.remove()"
      ],
      "execution_count": null,
      "outputs": []
    },
    {
      "cell_type": "code",
      "metadata": {
        "id": "gk8OB9n6m4kU"
      },
      "source": [
        "# cls = 1\n",
        "# with HookBwd(learn.model[0]) as hookg:\n",
        "#     with Hook(learn.model[0]) as hook:\n",
        "#         output = learn.model.eval()(x)\n",
        "#         act = hook.stored\n",
        "#     output.backward()\n",
        "#     # output[0,cls].backward()\n",
        "#     grad = hookg.stored"
      ],
      "execution_count": null,
      "outputs": []
    },
    {
      "cell_type": "markdown",
      "metadata": {
        "id": "EKwuc2KMycQy"
      },
      "source": [
        "The gradient can only be created for scalar outputs. We have to chose the first image (index 0) and the second class (index 1) in order to run backward and get the gradients."
      ]
    },
    {
      "cell_type": "code",
      "metadata": {
        "id": "WXCDQGdIyrqy"
      },
      "source": [
        "cls = 1\n",
        "with HookBwd(learn.model[0]) as hookg:\n",
        "    with Hook(learn.model[0]) as hook:\n",
        "        output = learn.model.eval()(x)\n",
        "        act = hook.stored\n",
        "    # output.backward()\n",
        "    output[0,cls].backward()\n",
        "    grad = hookg.stored"
      ],
      "execution_count": null,
      "outputs": []
    },
    {
      "cell_type": "code",
      "metadata": {
        "colab": {
          "base_uri": "https://localhost:8080/"
        },
        "id": "RfxWyB-5yxGJ",
        "outputId": "6dc42e40-5ae0-4037-ce03-6080fb8d8d2a"
      },
      "source": [
        "grad.shape"
      ],
      "execution_count": null,
      "outputs": [
        {
          "output_type": "execute_result",
          "data": {
            "text/plain": [
              "torch.Size([1, 512, 7, 7])"
            ]
          },
          "metadata": {
            "tags": []
          },
          "execution_count": 28
        }
      ]
    },
    {
      "cell_type": "code",
      "metadata": {
        "colab": {
          "base_uri": "https://localhost:8080/"
        },
        "id": "nH951XkIyyCD",
        "outputId": "9ab61de2-f5b2-41f7-b1f5-96a51d1a7c4e"
      },
      "source": [
        "act.shape"
      ],
      "execution_count": null,
      "outputs": [
        {
          "output_type": "execute_result",
          "data": {
            "text/plain": [
              "torch.Size([1, 512, 7, 7])"
            ]
          },
          "metadata": {
            "tags": []
          },
          "execution_count": 29
        }
      ]
    },
    {
      "cell_type": "markdown",
      "metadata": {
        "id": "KWT4whAZzBgU"
      },
      "source": [
        "## Further Research"
      ]
    },
    {
      "cell_type": "markdown",
      "metadata": {
        "id": "LDuWTUYFzDlG"
      },
      "source": [
        "__1. Try removing keepdim and see what happens. Look up this parameter in the PyTorch docs. Why do we need it in this notebook?__"
      ]
    },
    {
      "cell_type": "code",
      "metadata": {
        "colab": {
          "base_uri": "https://localhost:8080/"
        },
        "id": "y4pH30a2zKwT",
        "outputId": "d1241f5a-6929-4d36-da61-98519606134b"
      },
      "source": [
        "w = grad[0].mean(dim=[1,2] , keepdim = True)\n",
        "w.shape"
      ],
      "execution_count": null,
      "outputs": [
        {
          "output_type": "execute_result",
          "data": {
            "text/plain": [
              "torch.Size([512, 1, 1])"
            ]
          },
          "metadata": {
            "tags": []
          },
          "execution_count": 30
        }
      ]
    },
    {
      "cell_type": "code",
      "metadata": {
        "colab": {
          "base_uri": "https://localhost:8080/"
        },
        "id": "px4f_l81zB1v",
        "outputId": "2a5c0cf9-f490-471b-a896-b37d9b80ccce"
      },
      "source": [
        "w1 = grad[0].mean(dim=[1,2])\n",
        "w1.shape"
      ],
      "execution_count": null,
      "outputs": [
        {
          "output_type": "execute_result",
          "data": {
            "text/plain": [
              "torch.Size([512])"
            ]
          },
          "metadata": {
            "tags": []
          },
          "execution_count": 31
        }
      ]
    },
    {
      "cell_type": "code",
      "metadata": {
        "colab": {
          "base_uri": "https://localhost:8080/"
        },
        "id": "IInvrzbY0F8z",
        "outputId": "5974ac00-5a2a-41af-865d-6be4ac8cd01d"
      },
      "source": [
        "torch.squeeze(w).shape"
      ],
      "execution_count": null,
      "outputs": [
        {
          "output_type": "execute_result",
          "data": {
            "text/plain": [
              "torch.Size([512])"
            ]
          },
          "metadata": {
            "tags": []
          },
          "execution_count": 32
        }
      ]
    },
    {
      "cell_type": "markdown",
      "metadata": {
        "id": "19V0Iy3Q0Lo4"
      },
      "source": [
        "`keepdim = False` appears to run `torch.squeeze` on the result. This removes all places where `dimension == 1`."
      ]
    },
    {
      "cell_type": "markdown",
      "metadata": {
        "id": "fd8GPvAZ0f24"
      },
      "source": [
        "__2. Create a notebook like this one, but for NLP, and use it to find which words in a movie review are most significant in assessing the sentiment of a particular movie review.__"
      ]
    },
    {
      "cell_type": "code",
      "metadata": {
        "id": "f6durikf7sds"
      },
      "source": [
        "from fastai.text.all import *"
      ],
      "execution_count": null,
      "outputs": []
    },
    {
      "cell_type": "code",
      "metadata": {
        "colab": {
          "base_uri": "https://localhost:8080/",
          "height": 71
        },
        "id": "PrwhHFXpDHvH",
        "outputId": "6062fc8f-d932-44e0-934e-cf2195ed307d"
      },
      "source": [
        "path = untar_data(URLs.IMDB_SAMPLE)\n",
        "df = pd.read_csv(path/'texts.csv')\n",
        "dls = TextDataLoaders.from_df(df, path=path, text_col='text', label_col='label', valid_col='is_valid')\n",
        "learn = text_classifier_learner(dls, AWD_LSTM)"
      ],
      "execution_count": null,
      "outputs": [
        {
          "output_type": "display_data",
          "data": {
            "text/html": [
              ""
            ],
            "text/plain": [
              "<IPython.core.display.HTML object>"
            ]
          },
          "metadata": {
            "tags": []
          }
        },
        {
          "output_type": "stream",
          "text": [
            "/usr/local/lib/python3.7/dist-packages/numpy/core/_asarray.py:83: VisibleDeprecationWarning: Creating an ndarray from ragged nested sequences (which is a list-or-tuple of lists-or-tuples-or ndarrays with different lengths or shapes) is deprecated. If you meant to do this, you must specify 'dtype=object' when creating the ndarray\n",
            "  return array(a, dtype, copy=False, order=order)\n"
          ],
          "name": "stderr"
        },
        {
          "output_type": "display_data",
          "data": {
            "text/html": [
              ""
            ],
            "text/plain": [
              "<IPython.core.display.HTML object>"
            ]
          },
          "metadata": {
            "tags": []
          }
        }
      ]
    },
    {
      "cell_type": "code",
      "metadata": {
        "colab": {
          "base_uri": "https://localhost:8080/",
          "height": 264
        },
        "id": "UY9oZRujvPvy",
        "outputId": "596cfd3e-cf49-462f-9bec-93eee03a3bca"
      },
      "source": [
        "dls.show_batch(max_n=2)"
      ],
      "execution_count": null,
      "outputs": [
        {
          "output_type": "display_data",
          "data": {
            "text/html": [
              "<table border=\"1\" class=\"dataframe\">\n",
              "  <thead>\n",
              "    <tr style=\"text-align: right;\">\n",
              "      <th></th>\n",
              "      <th>text</th>\n",
              "      <th>category</th>\n",
              "    </tr>\n",
              "  </thead>\n",
              "  <tbody>\n",
              "    <tr>\n",
              "      <th>0</th>\n",
              "      <td>xxbos xxmaj raising xxmaj victor xxmaj vargas : a xxmaj review \\n\\n xxmaj you know , xxmaj raising xxmaj victor xxmaj vargas is like sticking your hands into a big , xxunk bowl of xxunk . xxmaj it 's warm and gooey , but you 're not sure if it feels right . xxmaj try as i might , no matter how warm and gooey xxmaj raising xxmaj victor xxmaj vargas became i was always aware that something did n't quite feel right . xxmaj victor xxmaj vargas suffers from a certain xxunk on the director 's part . xxmaj apparently , the director thought that the ethnic backdrop of a xxmaj latino family on the lower east side , and an xxunk storyline would make the film critic proof . xxmaj he was right , but it did n't fool me . xxmaj raising xxmaj victor xxmaj vargas is</td>\n",
              "      <td>negative</td>\n",
              "    </tr>\n",
              "    <tr>\n",
              "      <th>1</th>\n",
              "      <td>xxbos xxup the xxup shop xxup around xxup the xxup corner is one of the xxunk and most feel - good romantic comedies ever made . xxmaj there 's just no getting around that , and it 's hard to actually put one 's feeling for this film into words . xxmaj it 's not one of those films that tries too hard , nor does it come up with the xxunk possible scenarios to get the two protagonists together in the end . xxmaj in fact , all its charm is xxunk , contained within the characters and the setting and the plot … which is highly believable to xxunk . xxmaj it 's easy to think that such a love story , as beautiful as any other ever told , * could * happen to you … a feeling you do n't often get from other romantic comedies</td>\n",
              "      <td>positive</td>\n",
              "    </tr>\n",
              "  </tbody>\n",
              "</table>"
            ],
            "text/plain": [
              "<IPython.core.display.HTML object>"
            ]
          },
          "metadata": {
            "tags": []
          }
        }
      ]
    },
    {
      "cell_type": "code",
      "metadata": {
        "id": "Xeuh2WrVupar"
      },
      "source": [
        "import gc\n",
        "gc.collect()\n",
        "torch.cuda.empty_cache()"
      ],
      "execution_count": null,
      "outputs": []
    },
    {
      "cell_type": "code",
      "metadata": {
        "id": "v3u4Zdn21MrI",
        "colab": {
          "base_uri": "https://localhost:8080/",
          "height": 80
        },
        "outputId": "82492806-4a20-4e4b-f975-a4d7da0c68ab"
      },
      "source": [
        "learn.fit_one_cycle(1, 2e-2)"
      ],
      "execution_count": null,
      "outputs": [
        {
          "output_type": "display_data",
          "data": {
            "text/html": [
              "<table border=\"1\" class=\"dataframe\">\n",
              "  <thead>\n",
              "    <tr style=\"text-align: left;\">\n",
              "      <th>epoch</th>\n",
              "      <th>train_loss</th>\n",
              "      <th>valid_loss</th>\n",
              "      <th>time</th>\n",
              "    </tr>\n",
              "  </thead>\n",
              "  <tbody>\n",
              "    <tr>\n",
              "      <td>0</td>\n",
              "      <td>0.594509</td>\n",
              "      <td>0.628708</td>\n",
              "      <td>04:44</td>\n",
              "    </tr>\n",
              "  </tbody>\n",
              "</table>"
            ],
            "text/plain": [
              "<IPython.core.display.HTML object>"
            ]
          },
          "metadata": {
            "tags": []
          }
        }
      ]
    },
    {
      "cell_type": "code",
      "metadata": {
        "colab": {
          "base_uri": "https://localhost:8080/"
        },
        "id": "PHSbui8BFua6",
        "outputId": "817e12c0-85ec-4fe3-fafb-360f5bf04a3c"
      },
      "source": [
        "x,y = first(dls.train_ds)\n",
        "x.shape"
      ],
      "execution_count": null,
      "outputs": [
        {
          "output_type": "execute_result",
          "data": {
            "text/plain": [
              "torch.Size([108])"
            ]
          },
          "metadata": {
            "tags": []
          },
          "execution_count": 139
        }
      ]
    },
    {
      "cell_type": "code",
      "metadata": {
        "colab": {
          "base_uri": "https://localhost:8080/"
        },
        "id": "ec9hInfMxNVH",
        "outputId": "61deaa1a-5b2c-475b-c143-8c28c0d4b9c9"
      },
      "source": [
        "x[None, :].shape"
      ],
      "execution_count": null,
      "outputs": [
        {
          "output_type": "execute_result",
          "data": {
            "text/plain": [
              "torch.Size([1, 108])"
            ]
          },
          "metadata": {
            "tags": []
          },
          "execution_count": 42
        }
      ]
    },
    {
      "cell_type": "code",
      "metadata": {
        "colab": {
          "base_uri": "https://localhost:8080/"
        },
        "id": "boXU_TnlxWm-",
        "outputId": "ed545760-6846-45bc-fbe4-ee78b4a9482d"
      },
      "source": [
        "t = torch.zeros(32, x[None, :].shape[-1])\n",
        "t.shape"
      ],
      "execution_count": null,
      "outputs": [
        {
          "output_type": "execute_result",
          "data": {
            "text/plain": [
              "torch.Size([32, 108])"
            ]
          },
          "metadata": {
            "tags": []
          },
          "execution_count": 43
        }
      ]
    },
    {
      "cell_type": "code",
      "metadata": {
        "colab": {
          "base_uri": "https://localhost:8080/"
        },
        "id": "R0h5ei36xdtP",
        "outputId": "4933c38a-79ad-434b-b03e-0d5e50e52a60"
      },
      "source": [
        "x = x + t\n",
        "x = x.long()\n",
        "x.shape"
      ],
      "execution_count": null,
      "outputs": [
        {
          "output_type": "execute_result",
          "data": {
            "text/plain": [
              "torch.Size([32, 108])"
            ]
          },
          "metadata": {
            "tags": []
          },
          "execution_count": 44
        }
      ]
    },
    {
      "cell_type": "code",
      "metadata": {
        "id": "s5SIuceYy-o8"
      },
      "source": [
        "class HookBwd_lm():\n",
        "    def __init__(self, m):\n",
        "        self.hook = m.register_backward_hook(self.hook_func)   \n",
        "    def hook_func(self, m, gi, go): \n",
        "      print(go[0])\n",
        "      self.stored = go[0].detach().clone()\n",
        "      print(self.stored)\n",
        "    def __enter__(self, *args): return self\n",
        "    def __exit__(self, *args): self.hook.remove()"
      ],
      "execution_count": null,
      "outputs": []
    },
    {
      "cell_type": "code",
      "metadata": {
        "id": "VMBnWbLyy-o9"
      },
      "source": [
        "class Hook_lm():\n",
        "    def __init__(self, m):\n",
        "        self.hook = m.register_forward_hook(self.hook_func)   \n",
        "    def hook_func(self, m, i, o): \n",
        "      # print(o[0].shape)\n",
        "      # print(o[0])\n",
        "      # print(o[1].shape)\n",
        "      # print(o[1])\n",
        "      # self.stored = o[0].detach().clone()\n",
        "      self.stored = o[0].clone().detach().requires_grad_(True)\n",
        "      # print(self.stored)\n",
        "    def __enter__(self, *args): return self\n",
        "    def __exit__(self, *args): self.hook.remove()"
      ],
      "execution_count": null,
      "outputs": []
    },
    {
      "cell_type": "code",
      "metadata": {
        "colab": {
          "base_uri": "https://localhost:8080/",
          "height": 35
        },
        "id": "qcDKByOf5kFa",
        "outputId": "20c81c3e-1ecd-45a6-e8b6-e4ddcd540d9b"
      },
      "source": [
        "cls = 1\n",
        "dls.vocab[1][cls]"
      ],
      "execution_count": null,
      "outputs": [
        {
          "output_type": "execute_result",
          "data": {
            "application/vnd.google.colaboratory.intrinsic+json": {
              "type": "string"
            },
            "text/plain": [
              "'positive'"
            ]
          },
          "metadata": {
            "tags": []
          },
          "execution_count": 186
        }
      ]
    },
    {
      "cell_type": "code",
      "metadata": {
        "id": "58TGpWTpK6bn"
      },
      "source": [
        "text = 'top gear episode 1'\n",
        "learn.model.train()\n",
        "learn.model.zero_grad()\n",
        "learn.model.reset()"
      ],
      "execution_count": null,
      "outputs": []
    },
    {
      "cell_type": "code",
      "metadata": {
        "colab": {
          "base_uri": "https://localhost:8080/"
        },
        "id": "EpCVexgSLBP0",
        "outputId": "f65f8835-9123-4e52-bd4c-ffc12257c534"
      },
      "source": [
        "x, = first(learn.dls.test_dl([text]))\n",
        "x"
      ],
      "execution_count": null,
      "outputs": [
        {
          "output_type": "execute_result",
          "data": {
            "text/plain": [
              "TensorText([[  2, 349,   0, 387, 329]])"
            ]
          },
          "metadata": {
            "tags": []
          },
          "execution_count": 191
        }
      ]
    },
    {
      "cell_type": "code",
      "metadata": {
        "colab": {
          "base_uri": "https://localhost:8080/",
          "height": 283
        },
        "id": "-grJSwGY2T1t",
        "outputId": "50ee8afb-46aa-4cee-9a7d-66af49a9ed89"
      },
      "source": [
        "with HookBwd_lm(learn.model[0]) as hookg:\n",
        "    with Hook_lm(learn.model[0]) as hook:\n",
        "        output = learn.model.eval()(x)\n",
        "        act = hook.stored\n",
        "        print(act)\n",
        "    # output[0][1,cls].backward()\n",
        "    output[0][0][cls].backward()\n",
        "    grad = hookg.stored"
      ],
      "execution_count": null,
      "outputs": [
        {
          "output_type": "stream",
          "text": [
            "TensorText([[[ 0.1275,  0.0029,  0.0113,  ..., -0.0193,  0.0351,  0.0011],\n",
            "         [ 0.4133,  0.0472,  0.0298,  ..., -0.1688, -0.3644,  0.3846],\n",
            "         [ 0.1097,  0.4288,  0.2149,  ...,  0.3352, -0.2172,  0.3383],\n",
            "         [ 0.0031,  0.2255,  0.0519,  ...,  0.1632, -0.3436,  0.1751],\n",
            "         [ 0.0056,  0.0083, -0.1565,  ...,  0.0324, -0.3085, -0.0663]]], requires_grad=True)\n"
          ],
          "name": "stdout"
        },
        {
          "output_type": "error",
          "ename": "AttributeError",
          "evalue": "ignored",
          "traceback": [
            "\u001b[0;31m---------------------------------------------------------------------------\u001b[0m",
            "\u001b[0;31mAttributeError\u001b[0m                            Traceback (most recent call last)",
            "\u001b[0;32m<ipython-input-192-5af7e72e6233>\u001b[0m in \u001b[0;36m<module>\u001b[0;34m()\u001b[0m\n\u001b[1;32m      6\u001b[0m     \u001b[0;31m# output[0][1,cls].backward()\u001b[0m\u001b[0;34m\u001b[0m\u001b[0;34m\u001b[0m\u001b[0;34m\u001b[0m\u001b[0m\n\u001b[1;32m      7\u001b[0m     \u001b[0moutput\u001b[0m\u001b[0;34m[\u001b[0m\u001b[0;36m0\u001b[0m\u001b[0;34m]\u001b[0m\u001b[0;34m[\u001b[0m\u001b[0;36m0\u001b[0m\u001b[0;34m]\u001b[0m\u001b[0;34m[\u001b[0m\u001b[0mcls\u001b[0m\u001b[0;34m]\u001b[0m\u001b[0;34m.\u001b[0m\u001b[0mbackward\u001b[0m\u001b[0;34m(\u001b[0m\u001b[0;34m)\u001b[0m\u001b[0;34m\u001b[0m\u001b[0;34m\u001b[0m\u001b[0m\n\u001b[0;32m----> 8\u001b[0;31m     \u001b[0mgrad\u001b[0m \u001b[0;34m=\u001b[0m \u001b[0mhookg\u001b[0m\u001b[0;34m.\u001b[0m\u001b[0mstored\u001b[0m\u001b[0;34m\u001b[0m\u001b[0;34m\u001b[0m\u001b[0m\n\u001b[0m",
            "\u001b[0;31mAttributeError\u001b[0m: 'HookBwd_lm' object has no attribute 'stored'"
          ]
        }
      ]
    },
    {
      "cell_type": "markdown",
      "metadata": {
        "id": "pa8RAuKsA5Xl"
      },
      "source": [
        "#fastai v1"
      ]
    },
    {
      "cell_type": "code",
      "metadata": {
        "id": "bdyBAz40A8Km"
      },
      "source": [
        "text = 'top gear episode 1'\n",
        "class_id = None\n",
        "learn.model.train()\n",
        "# _eval_dropouts(learn.model)\n",
        "learn.model.zero_grad()\n",
        "learn.model.reset()"
      ],
      "execution_count": null,
      "outputs": []
    },
    {
      "cell_type": "code",
      "metadata": {
        "colab": {
          "base_uri": "https://localhost:8080/"
        },
        "id": "TjNwJjbgA9xP",
        "outputId": "591a41ac-9448-4fd3-bff3-0d5e40c7772f"
      },
      "source": [
        "dl = learn.dls.test_dl([text])\n",
        "batch = next(iter(dl))[0]\n",
        "emb = learn.model[0].module.encoder(batch).detach().requires_grad_(True)\n",
        "emb.retain_grad()\n",
        "lstm = learn.model[0].module(emb, True)\n",
        "learn.model.eval()"
      ],
      "execution_count": null,
      "outputs": [
        {
          "output_type": "execute_result",
          "data": {
            "text/plain": [
              "SequentialRNN(\n",
              "  (0): SentenceEncoder(\n",
              "    (module): AWD_LSTM(\n",
              "      (encoder): Embedding(7080, 400, padding_idx=1)\n",
              "      (encoder_dp): EmbeddingDropout(\n",
              "        (emb): Embedding(7080, 400, padding_idx=1)\n",
              "      )\n",
              "      (rnns): ModuleList(\n",
              "        (0): WeightDropout(\n",
              "          (module): LSTM(400, 1152, batch_first=True)\n",
              "        )\n",
              "        (1): WeightDropout(\n",
              "          (module): LSTM(1152, 1152, batch_first=True)\n",
              "        )\n",
              "        (2): WeightDropout(\n",
              "          (module): LSTM(1152, 400, batch_first=True)\n",
              "        )\n",
              "      )\n",
              "      (input_dp): RNNDropout()\n",
              "      (hidden_dps): ModuleList(\n",
              "        (0): RNNDropout()\n",
              "        (1): RNNDropout()\n",
              "        (2): RNNDropout()\n",
              "      )\n",
              "    )\n",
              "  )\n",
              "  (1): PoolingLinearClassifier(\n",
              "    (layers): Sequential(\n",
              "      (0): LinBnDrop(\n",
              "        (0): BatchNorm1d(1200, eps=1e-05, momentum=0.1, affine=True, track_running_stats=True)\n",
              "        (1): Dropout(p=0.2, inplace=False)\n",
              "        (2): Linear(in_features=1200, out_features=50, bias=False)\n",
              "        (3): ReLU(inplace=True)\n",
              "      )\n",
              "      (1): LinBnDrop(\n",
              "        (0): BatchNorm1d(50, eps=1e-05, momentum=0.1, affine=True, track_running_stats=True)\n",
              "        (1): Dropout(p=0.1, inplace=False)\n",
              "        (2): Linear(in_features=50, out_features=2, bias=False)\n",
              "      )\n",
              "    )\n",
              "  )\n",
              ")"
            ]
          },
          "metadata": {
            "tags": []
          },
          "execution_count": 201
        }
      ]
    },
    {
      "cell_type": "code",
      "metadata": {
        "colab": {
          "base_uri": "https://localhost:8080/"
        },
        "id": "QphO6O_-BFGL",
        "outputId": "a4fb9a28-b63f-47ff-96f4-6f3275140c3a"
      },
      "source": [
        "cl = learn.model[1]((lstm, torch.zeros_like(batch).bool(),))[0].softmax(dim=-1)\n",
        "cl"
      ],
      "execution_count": null,
      "outputs": [
        {
          "output_type": "execute_result",
          "data": {
            "text/plain": [
              "tensor([[0.6166, 0.3834]], grad_fn=<SoftmaxBackward>)"
            ]
          },
          "metadata": {
            "tags": []
          },
          "execution_count": 202
        }
      ]
    },
    {
      "cell_type": "code",
      "metadata": {
        "colab": {
          "base_uri": "https://localhost:8080/"
        },
        "id": "6FKYovTEBObg",
        "outputId": "38a92dc4-9df2-4617-9ac7-5436ec4db435"
      },
      "source": [
        "if class_id is None: class_id = cl.argmax()\n",
        "class_id"
      ],
      "execution_count": null,
      "outputs": [
        {
          "output_type": "execute_result",
          "data": {
            "text/plain": [
              "tensor(0)"
            ]
          },
          "metadata": {
            "tags": []
          },
          "execution_count": 203
        }
      ]
    },
    {
      "cell_type": "code",
      "metadata": {
        "colab": {
          "base_uri": "https://localhost:8080/"
        },
        "id": "i1wPA9evBNH8",
        "outputId": "1e15668d-9981-4be7-d4f8-8cccc3693167"
      },
      "source": [
        "print(cl[0][class_id])\n",
        "cl[0][class_id].backward()"
      ],
      "execution_count": null,
      "outputs": [
        {
          "output_type": "stream",
          "text": [
            "tensor(0.6166, grad_fn=<SelectBackward>)\n"
          ],
          "name": "stdout"
        }
      ]
    },
    {
      "cell_type": "code",
      "metadata": {
        "colab": {
          "base_uri": "https://localhost:8080/"
        },
        "id": "WDlrkS2XBWPR",
        "outputId": "e5303725-4ab4-4733-a27b-28125cbb7e6c"
      },
      "source": [
        "attn = emb.grad.squeeze().abs().sum(dim=-1)\n",
        "attn /= attn.max()\n",
        "attn"
      ],
      "execution_count": null,
      "outputs": [
        {
          "output_type": "execute_result",
          "data": {
            "text/plain": [
              "TensorText([1.0000, 0.6833, 0.4883, 0.5678, 0.3312])"
            ]
          },
          "metadata": {
            "tags": []
          },
          "execution_count": 205
        }
      ]
    },
    {
      "cell_type": "code",
      "metadata": {
        "colab": {
          "base_uri": "https://localhost:8080/",
          "height": 35
        },
        "id": "iEV1WR7u4p7Z",
        "outputId": "ad1fc6a3-c9ed-4ad6-aec0-86794b7573aa"
      },
      "source": [
        "tok, _ = learn.dls.decode_batch((*tuplify(batch), *tuplify(cl)))[0]\n",
        "tok"
      ],
      "execution_count": null,
      "outputs": [
        {
          "output_type": "execute_result",
          "data": {
            "application/vnd.google.colaboratory.intrinsic+json": {
              "type": "string"
            },
            "text/plain": [
              "'xxbos top xxunk episode 1'"
            ]
          },
          "metadata": {
            "tags": []
          },
          "execution_count": 206
        }
      ]
    },
    {
      "cell_type": "code",
      "metadata": {
        "id": "vsS_zIPE8dVA"
      },
      "source": [
        ""
      ],
      "execution_count": null,
      "outputs": []
    }
  ]
}